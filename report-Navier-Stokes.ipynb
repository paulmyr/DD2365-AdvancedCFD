{
  "nbformat": 4,
  "nbformat_minor": 0,
  "metadata": {
    "colab": {
      "name": "template-report-Navier-Stokes.ipynb",
      "provenance": [],
      "include_colab_link": true
    },
    "kernelspec": {
      "name": "python3",
      "display_name": "Python 3"
    }
  },
  "cells": [
    {
      "cell_type": "markdown",
      "metadata": {
        "id": "view-in-github",
        "colab_type": "text"
      },
      "source": [
        "<a href=\"https://colab.research.google.com/github/paulmyr/DD2365-AdvancedCFD/blob/master/report-Navier-Stokes.ipynb\" target=\"_parent\"><img src=\"https://colab.research.google.com/assets/colab-badge.svg\" alt=\"Open In Colab\"/></a>"
      ]
    },
    {
      "cell_type": "markdown",
      "metadata": {
        "id": "cyCUwzF-wRoW"
      },
      "source": [
        "# **The Navier-Stokes equations**\n",
        "**Johan Hoffman**"
      ]
    },
    {
      "cell_type": "markdown",
      "metadata": {
        "id": "9x_J5FVuPzbm"
      },
      "source": [
        "# **Abstract**"
      ]
    },
    {
      "cell_type": "markdown",
      "metadata": {
        "id": "6UFTSzW7P8kL"
      },
      "source": [
        "This short report show an example on how to use FEniCS to solve the Navier-Stokes equations, which is used in the course DD2365 Advanced Computation in Fluid Mechanics, at the KTH Royal Institute of Technology.\n",
        "\n",
        "[DD2365 course website.](https://www.kth.se/social/course/DD2365/)"
      ]
    },
    {
      "cell_type": "markdown",
      "metadata": {
        "id": "OkT8J7uOWpT3"
      },
      "source": [
        "# **About the code**"
      ]
    },
    {
      "cell_type": "code",
      "metadata": {
        "id": "Pdll1Xc9WP0e"
      },
      "source": [
        "# This program is an example file for the course\n",
        "# DD2365 Advanced Computation in Fluid Mechanics,\n",
        "# KTH Royal Institute of Technology, Stockholm, Sweden.\n",
        "\n",
        "# Copyright (C) 2020 Johan Hoffman (jhoffman@kth.se)\n",
        "\n",
        "# This file is part of the course DD2365 Advanced Computation in Fluid Mechanics\n",
        "# KTH Royal Institute of Technology, Stockholm, Sweden\n",
        "#\n",
        "# This is free software: you can redistribute it and/or modify\n",
        "# it under the terms of the GNU Lesser General Public License as published by\n",
        "# the Free Software Foundation, either version 3 of the License, or\n",
        "# (at your option) any later version.\n",
        "\n",
        "# This template is maintained by Johan Hoffman\n",
        "# Please report problems to jhoffman@kth.se"
      ],
      "execution_count": 1,
      "outputs": []
    },
    {
      "cell_type": "markdown",
      "metadata": {
        "id": "28xLGz8JX3Hh"
      },
      "source": [
        "# **Set up environment**"
      ]
    },
    {
      "cell_type": "code",
      "metadata": {
        "id": "Xw7VlErAX7NS"
      },
      "source": [
        "# Load neccessary modules.\n",
        "from google.colab import files\n",
        "\n",
        "import numpy as np\n",
        "import time\n",
        "\n",
        "# Install FEniCS (this may take a long time)\n",
        "try:\n",
        "    import dolfin\n",
        "except ImportError:\n",
        "    !wget \"https://fem-on-colab.github.io/releases/fenics-install-release-real.sh\" -O \"/tmp/fenics-install.sh\" && bash \"/tmp/fenics-install.sh\"\n",
        "    import dolfin\n",
        "\n",
        "from dolfin import *; from mshr import *\n",
        "\n",
        "import dolfin.common.plotting as fenicsplot\n",
        "\n",
        "from matplotlib import pyplot as plt"
      ],
      "execution_count": null,
      "outputs": []
    },
    {
      "cell_type": "markdown",
      "metadata": {
        "id": "gnO3lhAigLev"
      },
      "source": [
        "# **Introduction**"
      ]
    },
    {
      "cell_type": "markdown",
      "metadata": {
        "id": "l5zMzgPlRAF6"
      },
      "source": [
        "The Navier-Stokes equations take the form\n",
        "\n",
        "$\\dot u + (u\\cdot \\nabla)u + \\nabla p -\\Delta u = f,\\quad \\nabla \\cdot u=0,$\n",
        "\n",
        "together with suitable initial and boundary conditions.\n",
        "\n",
        "Here we present a FEniCS implementation of a stabilized space-time finite element method to solve the Navier-Stokes equations in 2D. The solution is visualized using FEniCS plotting functions, and is also exported as pvd-files which can be visualized in Paraview.\n",
        "\n",
        "We seek a finite element approximation $(u,p)\\in V\\times Q$ such that\n",
        "\n",
        "$(\\dot u + (u\\cdot \\nabla)u, v) - (p,\\nabla \\cdot v) + (\\nu \\nabla u,\\nabla v) + (\\nabla \\cdot u, q) + SD(u,p;v,q) = (f,v),$\n",
        "\n",
        "for all test functions $(v,q) \\in \\hat V\\times \\hat Q$, where $SD(u,p;v,q)$ is a residual based stabilization term.\n",
        "\n",
        "We present an example of flow past a circular cylinder, for which we compute the force on the surface of the cylinder $\\Gamma$ in the direction $\\phi$, by Green's formula:\n",
        "\n",
        "$\n",
        "F(u,p,\\phi)= ~<\\nu \\nabla u\\cdot n-pn, \\Phi>_{\\Gamma} ~=~(\\dot u+(u\\cdot \\nabla)u, \\Phi) + (\\nu \\nabla u,\\nabla \\Phi) - (p,\\nabla \\cdot\\Phi)-(f,\\Phi),\n",
        "$\n",
        "\n",
        "with $\\Phi\\in V$ a fuinction for which $\\Phi\\vert _{\\Gamma}=\\phi$ and $\\Phi\\vert_{\\partial \\Omega \\setminus \\Gamma}=0$. With $\\phi=(1,0)$ we get the drag force $F_D$, and with $\\phi=(0,1)$ the lift force $F_L$. The drag and lift coefficients are obtained by normalization,\n",
        "\n",
        "$\n",
        "c_D = \\frac{2F_D}{\\rho U^2D}, \\quad c_L = \\frac{2F_L}{\\rho U^2D}\n",
        "$\n",
        "\n",
        "where $\\rho$ is the density (here $\\rho=1$), $U$ the characteristic velocity, and $D$ the characteristic length scale (here $D$ is the diameter of the cylinder).\n",
        "\n",
        "The Reynolds number is defined as $Re=\\frac{UD}{\\nu}$\n",
        "\n",
        "To read more about how to use similar methods for more complex problems, see e.g.\n",
        "\n",
        "[Hoffman, Johan, et al. \"Towards a parameter-free method for high reynolds number turbulent flow simulation based on adaptive finite element approximation.\" Computer Methods in Applied Mechanics and Engineering 288 (2015): 60-74.](https://www.sciencedirect.com/science/article/pii/S0045782514004836)\n"
      ]
    },
    {
      "cell_type": "markdown",
      "metadata": {
        "id": "jOQvukXZq5U5"
      },
      "source": [
        "# **Method**"
      ]
    },
    {
      "cell_type": "markdown",
      "metadata": {
        "id": "wu2fugJ32t8m"
      },
      "source": [
        "**Define domain and mesh**"
      ]
    },
    {
      "cell_type": "code",
      "metadata": {
        "id": "_KBWOVATuBQz"
      },
      "source": [
        "# Define rectangular domain\n",
        "L = 4\n",
        "H = 2\n",
        "\n",
        "# Define circle\n",
        "xc = 1.0\n",
        "yc = 0.5*H\n",
        "rc = 0.2\n",
        "\n",
        "# Define subdomains (for boundary conditions)\n",
        "class Left(SubDomain):\n",
        "    def inside(self, x, on_boundary):\n",
        "        return near(x[0], 0.0)\n",
        "\n",
        "class Right(SubDomain):\n",
        "    def inside(self, x, on_boundary):\n",
        "        return near(x[0], L)\n",
        "\n",
        "class Lower(SubDomain):\n",
        "    def inside(self, x, on_boundary):\n",
        "        return near(x[1], 0.0)\n",
        "\n",
        "class Upper(SubDomain):\n",
        "    def inside(self, x, on_boundary):\n",
        "        return near(x[1], H)\n",
        "\n",
        "left = Left()\n",
        "right = Right()\n",
        "lower = Lower()\n",
        "upper = Upper()\n",
        "\n",
        "# Generate mesh (examples with and without a hole in the mesh)\n",
        "resolution = 32\n",
        "#mesh = RectangleMesh(Point(0.0, 0.0), Point(L, H), L*resolution, H*resolution)\n",
        "mesh = generate_mesh(Rectangle(Point(0.0,0.0), Point(L,H)) - Circle(Point(xc,yc),rc), resolution)\n",
        "\n",
        "# Local mesh refinement (specified by a cell marker)\n",
        "no_levels = 0\n",
        "for i in range(0,no_levels):\n",
        "  cell_marker = MeshFunction(\"bool\", mesh, mesh.topology().dim())\n",
        "  for cell in cells(mesh):\n",
        "    cell_marker[cell] = False\n",
        "    p = cell.midpoint()\n",
        "    if p.distance(Point(xc, yc)) < 1.0:\n",
        "        cell_marker[cell] = True\n",
        "  mesh = refine(mesh, cell_marker)\n",
        "\n",
        "# Define mesh functions (for boundary conditions)\n",
        "boundaries = MeshFunction(\"size_t\", mesh, mesh.topology().dim()-1)\n",
        "boundaries.set_all(0)\n",
        "left.mark(boundaries, 1)\n",
        "right.mark(boundaries, 2)\n",
        "lower.mark(boundaries, 3)\n",
        "upper.mark(boundaries, 4)\n",
        "\n",
        "plt.figure()\n",
        "plot(mesh)\n",
        "plt.show()"
      ],
      "execution_count": null,
      "outputs": []
    },
    {
      "cell_type": "markdown",
      "metadata": {
        "id": "-le1iA8u3fS-"
      },
      "source": [
        "**Define finite element approximation spaces**"
      ]
    },
    {
      "cell_type": "code",
      "metadata": {
        "id": "uWeyBcYXuaPq"
      },
      "source": [
        "# Generate finite element spaces (for velocity and pressure)\n",
        "V = VectorFunctionSpace(mesh, \"Lagrange\", 1)\n",
        "Q = FunctionSpace(mesh, \"Lagrange\", 1)\n",
        "\n",
        "# Define trial and test functions\n",
        "u = TrialFunction(V)\n",
        "p = TrialFunction(Q)\n",
        "v = TestFunction(V)\n",
        "q = TestFunction(Q)"
      ],
      "execution_count": null,
      "outputs": []
    },
    {
      "cell_type": "markdown",
      "metadata": {
        "id": "OKzE7v-B3o9R"
      },
      "source": [
        "**Define boundary conditions**"
      ]
    },
    {
      "cell_type": "code",
      "metadata": {
        "id": "WAsDDvdKujQT"
      },
      "source": [
        "# Define boundary conditions\n",
        "class DirichletBoundaryLower(SubDomain):\n",
        "    def inside(self, x, on_boundary):\n",
        "        return on_boundary and near(x[1], 0.0)\n",
        "\n",
        "class DirichletBoundaryUpper(SubDomain):\n",
        "    def inside(self, x, on_boundary):\n",
        "        return on_boundary and near(x[1], H)\n",
        "\n",
        "class DirichletBoundaryLeft(SubDomain):\n",
        "    def inside(self, x, on_boundary):\n",
        "        return on_boundary and near(x[0], 0.0)\n",
        "\n",
        "class DirichletBoundaryRight(SubDomain):\n",
        "    def inside(self, x, on_boundary):\n",
        "        return on_boundary and near(x[0], L)\n",
        "\n",
        "class DirichletBoundaryObjects(SubDomain):\n",
        "    def inside(self, x, on_boundary):\n",
        "        return on_boundary and (not near(x[0], 0.0)) and (not near(x[0], L)) and (not near(x[1], 0.0)) and (not near(x[1], H))\n",
        "\n",
        "dbc_lower = DirichletBoundaryLower()\n",
        "dbc_upper = DirichletBoundaryUpper()\n",
        "dbc_left = DirichletBoundaryLeft()\n",
        "dbc_right = DirichletBoundaryRight()\n",
        "dbc_objects = DirichletBoundaryObjects()\n",
        "\n",
        "# Examples of time dependent and stationary inflow conditions\n",
        "#uin = Expression('4.0*x[1]*(1-x[1])', element = V.sub(0).ufl_element())\n",
        "#uin = Expression('1.0 + 1.0*fabs(sin(t))', element = V.sub(0).ufl_element(), t=0.0)\n",
        "uin = 1.0\n",
        "\n",
        "# uin = 0.4\n",
        "\n",
        "bcu_in0 = DirichletBC(V.sub(0), uin, dbc_left)\n",
        "bcu_in1 = DirichletBC(V.sub(1), 0.0, dbc_left)\n",
        "bcu_upp0 = DirichletBC(V.sub(0), 0.0, dbc_upper)\n",
        "bcu_upp1 = DirichletBC(V.sub(1), 0.0, dbc_upper)\n",
        "bcu_low0 = DirichletBC(V.sub(0), 0.0, dbc_lower)\n",
        "bcu_low1 = DirichletBC(V.sub(1), 0.0, dbc_lower)\n",
        "bcu_obj0 = DirichletBC(V.sub(0), 0.0, dbc_objects)\n",
        "bcu_obj1 = DirichletBC(V.sub(1), 0.0, dbc_objects)\n",
        "\n",
        "pin = Expression('5.0*fabs(sin(t))', element = Q.ufl_element(), t=0.0)\n",
        "pout = 0.0\n",
        "#bcp0 = DirichletBC(Q, pin, dbc_left)\n",
        "bcp1 = DirichletBC(Q, pout, dbc_right)\n",
        "\n",
        "#bcu = [bcu_in0, bcu_in1, bcu_upp0, bcu_upp1, bcu_low0, bcu_low1, bcu_obj0, bcu_obj1]\n",
        "bcu = [bcu_in0, bcu_in1, bcu_upp1, bcu_low1, bcu_obj0, bcu_obj1]\n",
        "bcp = [bcp1]\n",
        "\n",
        "# Define measure for boundary integration\n",
        "ds = Measure('ds', domain=mesh, subdomain_data=boundaries)"
      ],
      "execution_count": 5,
      "outputs": []
    },
    {
      "cell_type": "markdown",
      "metadata": {
        "id": "SsQLT38gVbn_"
      },
      "source": [
        "# **Results**"
      ]
    },
    {
      "cell_type": "markdown",
      "source": [
        "The Reynolds number is given as $RE = \\frac{UL}{\\nu}$.\n",
        "The characteristic length L is given by the cylinders diameter $L = 1$, and the characteristic velocity is $U = 0.4$ (set $u_{in} = 0.4$)\n",
        "\n",
        "For $\\nu \\in \\{4.0\\cdot 10^{-1}, ..., 4.0 \\cdot 10^{-4}\\}$  we get $RE \\in \\{1, ..., 1000\\}$"
      ],
      "metadata": {
        "id": "cdf3ueAtFQen"
      }
    },
    {
      "cell_type": "markdown",
      "metadata": {
        "id": "lA2Lsqa84Yld"
      },
      "source": [
        "**Define flow parameters**"
      ]
    },
    {
      "cell_type": "code",
      "metadata": {
        "id": "X7tupdYpuq0x"
      },
      "source": [
        "# Set viscosity\n",
        "nu = 4.0e-4\n",
        "RE = (2 * rc * uin) / nu\n",
        "\n",
        "print(f\"RE = (U * L) / nu = ({uin} * {2 * rc}) / {nu} = {RE}\")"
      ],
      "execution_count": null,
      "outputs": []
    },
    {
      "cell_type": "markdown",
      "metadata": {
        "id": "qI4ZYb5E4w5p"
      },
      "source": [
        "**Define method parameters**"
      ]
    },
    {
      "cell_type": "code",
      "metadata": {
        "id": "6o3zdXWYuuFy"
      },
      "source": [
        "# Define iteration functions\n",
        "# (u0,p0) solution from previous time step\n",
        "# (u1,p1) linearized solution at present time step\n",
        "u0 = Function(V)\n",
        "u1 = Function(V)\n",
        "p0 = Function(Q)\n",
        "p1 = Function(Q)\n",
        "\n",
        "# Set parameters for nonlinear and lienar solvers\n",
        "num_nnlin_iter = 5\n",
        "prec = \"amg\" if has_krylov_solver_preconditioner(\"amg\") else \"default\"\n",
        "\n",
        "# Time step length\n",
        "dt = 0.5*mesh.hmin()"
      ],
      "execution_count": 7,
      "outputs": []
    },
    {
      "cell_type": "markdown",
      "metadata": {
        "id": "y0EnzPyU46PX"
      },
      "source": [
        "**Define variational problem**"
      ]
    },
    {
      "cell_type": "code",
      "metadata": {
        "id": "W-bCOI6LuxFi"
      },
      "source": [
        "# Define variational problem\n",
        "\n",
        "# Stabilization parameters\n",
        "h = CellDiameter(mesh);\n",
        "u_mag = sqrt(dot(u1,u1))\n",
        "d1 = 1.0/sqrt((pow(1.0/dt,2.0) + pow(u_mag/h,2.0)))\n",
        "d2 = h*u_mag\n",
        "\n",
        "# Mean velocities for trapozoidal time stepping\n",
        "um = 0.5*(u + u0)\n",
        "um1 = 0.5*(u1 + u0)\n",
        "\n",
        "# Momentum variational equation on residual form\n",
        "Fu = inner((u - u0)/dt + grad(um)*um1, v)*dx - p1*div(v)*dx + nu*inner(grad(um), grad(v))*dx \\\n",
        "    + d1*inner((u - u0)/dt + grad(um)*um1 + grad(p1), grad(v)*um1)*dx + d2*div(um)*div(v)*dx\n",
        "au = lhs(Fu)\n",
        "Lu = rhs(Fu)\n",
        "\n",
        "# Continuity variational equation on residual form\n",
        "Fp = d1*inner((u1 - u0)/dt + grad(um1)*um1 + grad(p), grad(q))*dx + div(um1)*q*dx\n",
        "ap = lhs(Fp)\n",
        "Lp = rhs(Fp)"
      ],
      "execution_count": 8,
      "outputs": []
    },
    {
      "cell_type": "markdown",
      "source": [
        "**Triple decomposition**"
      ],
      "metadata": {
        "id": "2Fwx2swKgwXi"
      }
    },
    {
      "cell_type": "code",
      "source": [
        "import scipy.linalg.lapack as la\n",
        "import numpy as np\n",
        "\n",
        "def triple_decomposition(grad_u):\n",
        "    new_grad = np.array([[0,0,0],\n",
        "                         [0,0,0],\n",
        "                         [0,0,0]])\n",
        "    for i in range(2):\n",
        "      for j in range(2):\n",
        "        new_grad[i,j] = grad_u[i,j]\n",
        "    def dselect(arg1,arg2): return (arg2==0)\n",
        "    T = la.dgees(dselect,new_grad,sort_t = 1)[0]\n",
        "    sh = np.linalg.norm([T[0,1],T[0,2],T[1,2]+T[2,1]])\n",
        "    el = np.linalg.norm(np.diag(T))\n",
        "    rr = np.sqrt(2*min(abs(T[1,2]),abs(T[2,1]))**2)\n",
        "    return sh, el, rr"
      ],
      "metadata": {
        "id": "tkUlx0Sfg01L"
      },
      "execution_count": 9,
      "outputs": []
    },
    {
      "cell_type": "markdown",
      "metadata": {
        "id": "vFN4F231ZXKc"
      },
      "source": [
        "**Compute force on boundary**"
      ]
    },
    {
      "cell_type": "code",
      "metadata": {
        "id": "-2aWCr3YZccP"
      },
      "source": [
        "# Define the direction of the force to be computed\n",
        "phi_x = 0.0\n",
        "phi_y = 1.0\n",
        "\n",
        "#psi_expression = Expression((\"0.0\",\"pow(x[0]-0.5,2.0) + pow(x[1]-1.0,2.0) - pow(0.2,2.0) < 1.e-5 ? 1. : 0.\"), element = V.ufl_element())\n",
        "psi_expression = Expression((\"near(pow(x[0]-xc,2.0) + pow(x[1]-yc,2.0) - pow(rc,2.0), 0.0) ? phi_x : 0.\",\"near(pow(x[0]-xc,2.0) + pow(x[1]-yc,2.0) - pow(rc,2.0), 0.0) ? phi_y : 0.\"), xc=xc, yc=yc, rc=rc, phi_x=phi_x, phi_y=phi_y, element = V.ufl_element())\n",
        "psi = interpolate(psi_expression, V)\n",
        "\n",
        "Force = inner((u1 - u0)/dt + grad(um1)*um1, psi)*dx - p1*div(psi)*dx + nu*inner(grad(um1), grad(psi))*dx\n",
        "\n",
        "#plt.figure()\n",
        "#plot(psi, title=\"weight function psi\")\n",
        "\n",
        "# Force normalization\n",
        "D = 2*rc\n",
        "normalization = -2.0/D"
      ],
      "execution_count": 10,
      "outputs": []
    },
    {
      "cell_type": "markdown",
      "metadata": {
        "id": "nl9EBgZU6tMZ"
      },
      "source": [
        "**Set plotting variables and open export files**"
      ]
    },
    {
      "cell_type": "code",
      "metadata": {
        "id": "Xpu2R7ZMu3bO"
      },
      "source": [
        "# Open files to export solution to Paraview\n",
        "file_u = File(\"results-NS/u.pvd\")\n",
        "file_p = File(\"results-NS/p.pvd\")\n",
        "\n",
        "# Set plot frequency\n",
        "plot_time = 0\n",
        "plot_freq = 10\n",
        "\n",
        "# Force computation data\n",
        "force_array = np.array(0.0)\n",
        "force_array = np.delete(force_array, 0)\n",
        "time = np.array(0.0)\n",
        "time = np.delete(time, 0)\n",
        "start_sample_time = 1.0"
      ],
      "execution_count": 11,
      "outputs": []
    },
    {
      "cell_type": "markdown",
      "metadata": {
        "id": "F_PajAPw6xdn"
      },
      "source": [
        "**Time stepping algorithm**"
      ]
    },
    {
      "cell_type": "code",
      "metadata": {
        "id": "JUfvsjZPvBc0"
      },
      "source": [
        "!rm results-NS/*\n",
        "\n",
        "# Time stepping\n",
        "T = 30\n",
        "t = dt\n",
        "while t < T + DOLFIN_EPS:\n",
        "\n",
        "    #s = 'Time t = ' + repr(t)\n",
        "    #print(s)\n",
        "\n",
        "    pin.t = t\n",
        "    #uin.t = t\n",
        "\n",
        "    # Solve non-linear problem\n",
        "    k = 0\n",
        "    while k < num_nnlin_iter:\n",
        "\n",
        "        # Assemble momentum matrix and vector\n",
        "        Au = assemble(au)\n",
        "        bu = assemble(Lu)\n",
        "\n",
        "        # Compute velocity solution\n",
        "        [bc.apply(Au, bu) for bc in bcu]\n",
        "        [bc.apply(u1.vector()) for bc in bcu]\n",
        "        solve(Au, u1.vector(), bu, \"bicgstab\", \"default\")\n",
        "\n",
        "        # Assemble continuity matrix and vector\n",
        "        Ap = assemble(ap)\n",
        "        bp = assemble(Lp)\n",
        "\n",
        "        # Compute pressure solution\n",
        "        [bc.apply(Ap, bp) for bc in bcp]\n",
        "        [bc.apply(p1.vector()) for bc in bcp]\n",
        "        solve(Ap, p1.vector(), bp, \"bicgstab\", prec)\n",
        "\n",
        "        # Compute force\n",
        "        F = assemble(Force)\n",
        "        if (t > start_sample_time):\n",
        "          force_array = np.append(force_array, normalization*F)\n",
        "          time = np.append(time, t)\n",
        "\n",
        "        k += 1\n",
        "\n",
        "    if t > plot_time or t + dt > T + DOLFIN_EPS:\n",
        "        if t + dt > T + DOLFIN_EPS:\n",
        "            print(\"---------------\")\n",
        "            print(\"final timestep:\")\n",
        "            print(\"---------------\\n\")\n",
        "\n",
        "        s = 'Time t = ' + repr(t)\n",
        "        print(s)\n",
        "\n",
        "        # Save solution to file\n",
        "        file_u << u1\n",
        "        file_p << p1\n",
        "\n",
        "        # Triple decomposition\n",
        "        V = TensorFunctionSpace(mesh, 'P', 1)\n",
        "        grad_u1_prel = nabla_grad(u1)\n",
        "        grad_u1 = project(grad_u1_prel, V)\n",
        "\n",
        "        V2 = FunctionSpace(mesh, 'CG', 1)\n",
        "        shear = Function(V2)\n",
        "        elongation = Function(V2)\n",
        "        rotation = Function(V2)\n",
        "        dofmap = V2.dofmap()\n",
        "\n",
        "        # Divergence\n",
        "        divu = Function(V2)\n",
        "\n",
        "        for vertex in vertices(mesh):\n",
        "            point = vertex.point()\n",
        "            grad_u1_point = grad_u1(point) # Evaluate the gradient tensor at the current point\n",
        "            grad_u1_matrix = matrix = np.array([\n",
        "                                                [grad_u1_point[0],grad_u1_point[1] ],\n",
        "                                                [grad_u1_point[2], grad_u1_point[3]]\n",
        "                                                                                       ])\n",
        "            sh, el, rr = triple_decomposition(grad_u1_matrix)\n",
        "            vertex_index = vertex.index()\n",
        "            dof_index = vertex_to_dof_map(V2)[vertex_index]\n",
        "            shear.vector()[dof_index] = sh\n",
        "            elongation.vector()[dof_index] = el\n",
        "            rotation.vector()[dof_index] = rr\n",
        "\n",
        "            divu_vert = grad_u1_point[0] + grad_u1_point[3]\n",
        "            divu.vector()[dof_index] = divu_vert\n",
        "\n",
        "        # Plot Triple Decomposition\n",
        "        fig, axes = plt.subplots(1, 3, figsize=(15, 5))\n",
        "        ax = plt.subplot(1, 3, 1)\n",
        "        im = plot(shear, title = \"Shear\")\n",
        "        plt.colorbar(im)\n",
        "        ax = plt.subplot(1, 3, 2)\n",
        "        im = plot(elongation, title = \"Strain\")\n",
        "        plt.colorbar(im)\n",
        "        ax = plt.subplot(1, 3, 3)\n",
        "        im = plot(rotation, title = \"Rotation\")\n",
        "        plt.colorbar(im)\n",
        "        plt.tight_layout()\n",
        "        plt.show()\n",
        "\n",
        "        # Plot divergence\n",
        "        plt.figure()\n",
        "        im = plot(divu, title=\"divergence\")\n",
        "        plt.colorbar(im)\n",
        "\n",
        "        # Plot solution\n",
        "        plt.figure()\n",
        "        plot(u1, title=\"Velocity\")\n",
        "\n",
        "        plt.figure()\n",
        "        plot(p1, title=\"Pressure\")\n",
        "\n",
        "        plot_time += T/plot_freq\n",
        "\n",
        "        plt.show()\n",
        "\n",
        "        plt.figure()\n",
        "        plt.title(\"Force\")\n",
        "        plt.plot(time, force_array)\n",
        "        plt.show()\n",
        "\n",
        "    # Update time step\n",
        "    u0.assign(u1)\n",
        "    t += dt\n",
        "\n",
        "#!tar -czvf results-NS.tar.gz results-NS\n",
        "#files.download('results-NS.tar.gz')"
      ],
      "execution_count": null,
      "outputs": []
    },
    {
      "cell_type": "markdown",
      "metadata": {
        "id": "_4GLBv0zWr7m"
      },
      "source": [
        "# **Discussion**"
      ]
    },
    {
      "cell_type": "markdown",
      "source": [
        "## 1. Stability of the flow field for different Reynolds Numbers"
      ],
      "metadata": {
        "id": "k2evD-e5ZVGk"
      }
    },
    {
      "cell_type": "markdown",
      "source": [
        "We say a flow field is stable, when the components of the flow field (e.g. velocity and pressure) only change in space, but not in time.\n",
        "\n",
        "### RE = 1:\n",
        "\n",
        "The flow is stable.\n",
        "First we have a look at the velocity field after 3s, 6s and 30s respectively.\n",
        "\n",
        "[<img src=\"https://raw.githubusercontent.com/paulmyr/DD2365-AdvancedCFD/refs/heads/master/images/lab2/re1_velocity_t3.png\" width=\"300\"/>](images/lab2/re1_velocity_t3.png)  [<img src=\"https://raw.githubusercontent.com/paulmyr/DD2365-AdvancedCFD/refs/heads/master/images/lab2/re1_velocity_t6.png\" width=\"300\"/>](images/lab2/re1_velocity_t6.png)[<img src=\"https://raw.githubusercontent.com/paulmyr/DD2365-AdvancedCFD/refs/heads/master/images/lab2/re1_velocity_t30.png\" width=\"300\"/>](images/lab2/re1_velocity_t30.png)\n",
        "\n",
        "After a short period the velocity field converges into a stable represontation. We can't differentiate the velocity fields between 3s and 30.\n",
        "The same is true for the pressure (6s vs 30s):\n",
        "\n",
        "\n",
        "[<img src=\"https://raw.githubusercontent.com/paulmyr/DD2365-AdvancedCFD/refs/heads/master/images/lab2/re1_pressure_t6.png\" width=\"450\"/>](images/lab2/re1_pressure_t6.png)  [<img src=\"https://raw.githubusercontent.com/paulmyr/DD2365-AdvancedCFD/refs/heads/master/images/lab2/re1_pressure_t30.png\" width=\"450\"/>](images/lab2/re1_pressure_t30.png)\n",
        "\n",
        "and the triple decomposition (also 6s vs 30s):\n",
        "\n",
        "[<img src=\"https://raw.githubusercontent.com/paulmyr/DD2365-AdvancedCFD/refs/heads/master/images/lab2/re1_triple_decomposition_t6.png\" width=\"900\"/>](images/lab2/re1_triple_decomposition_t6.png)[<img src=\"https://raw.githubusercontent.com/paulmyr/DD2365-AdvancedCFD/refs/heads/master/images/lab2/re1_triple_decomposition_t30.png\" width=\"900\"/>](images/lab2/re1_triple_decomposition_t30.png)\n",
        "\n",
        "The lift force converges to a stable value after around 3s:\n",
        "\n",
        "[<img src=\"https://raw.githubusercontent.com/paulmyr/DD2365-AdvancedCFD/refs/heads/master/images/lab2/re1_force.png\" width=\"900\"/>](images/lab2/re1_force.png)\n",
        "\n",
        "\n",
        "### RE = 10:\n",
        "\n",
        "We see similar behavior as for RE = 1. The flow field is also stable.\n",
        "The convergence for the flow field takes a litte bit longer.\n",
        "We see the lift force converges after approx. 5s.\n",
        "\n",
        "[<img src=\"https://raw.githubusercontent.com/paulmyr/DD2365-AdvancedCFD/refs/heads/master/images/lab2/re10_force.png\" width=\"900\"/>](images/lab2/re10_force.png)\n",
        "\n",
        "\n",
        "### RE = 100:\n",
        "Now things get more interesting. When we look at the lift force, we see the following behaviour:\n",
        "\n",
        "[<img src=\"https://raw.githubusercontent.com/paulmyr/DD2365-AdvancedCFD/refs/heads/master/images/lab2/re100_force.png\" width=\"900\"/>](images/lab2/re100_force.png)\n",
        "\n",
        "The lift force is not converging to a single value, which means the flow filed is constantly changing over time. Therefor the flow field is unstable.\n",
        "\n",
        "We see the Karman vortex street, best visible in the shear and rotational part of the triple decomposition (depicted after 3s, 6s, 9s):\n",
        "\n",
        "[<img src=\"https://raw.githubusercontent.com/paulmyr/DD2365-AdvancedCFD/refs/heads/master/images/lab2/re100_triple_decomposition_t3.png\" width=\"900\"/>](images/lab2/re100_triple_decomposition_t3.png)\n",
        "[<img src=\"https://raw.githubusercontent.com/paulmyr/DD2365-AdvancedCFD/refs/heads/master/images/lab2/re100_triple_decomposition_t6.png\" width=\"900\"/>](images/lab2/re100_triple_decomposition_t6.png)\n",
        "[<img src=\"https://raw.githubusercontent.com/paulmyr/DD2365-AdvancedCFD/refs/heads/master/images/lab2/re100_triple_decomposition_t9.png\" width=\"900\"/>](images/lab2/re100_triple_decomposition_t9.png)\n",
        "\n",
        "### RE = 1000:\n",
        "\n",
        "The force is now oscillating even more intensly (higher amplitude):\n",
        "\n",
        "[<img src=\"https://raw.githubusercontent.com/paulmyr/DD2365-AdvancedCFD/refs/heads/master/images/lab2/re1000_force.png\" width=\"900\"/>](images/lab2/re1000_force.png)\n",
        "\n",
        "The flow is still unstable as expected. Here a comparison between 27s and 30s after start of the simulation:\n",
        "\n",
        "[<img src=\"https://raw.githubusercontent.com/paulmyr/DD2365-AdvancedCFD/refs/heads/master/images/lab2/re1000_triple_decomposition_t27.png\" width=\"900\"/>](images/lab2/re1000_triple_decomposition_t27.png)\n",
        "[<img src=\"https://raw.githubusercontent.com/paulmyr/DD2365-AdvancedCFD/refs/heads/master/images/lab2/re1000_triple_decomposition_t30.png\" width=\"900\"/>](images/lab2/re1000_triple_decomposition_t30.png)"
      ],
      "metadata": {
        "id": "JeQYB1XnZaj2"
      }
    },
    {
      "cell_type": "markdown",
      "source": [
        "# 2. Drag and lift coefficients"
      ],
      "metadata": {
        "id": "G5tQ-DmeiW1a"
      }
    },
    {
      "cell_type": "code",
      "source": [],
      "metadata": {
        "id": "4jQgQQiidN0r"
      },
      "execution_count": null,
      "outputs": []
    },
    {
      "cell_type": "code",
      "source": [],
      "metadata": {
        "id": "zge11h_Adikn"
      },
      "execution_count": null,
      "outputs": []
    }
  ]
}