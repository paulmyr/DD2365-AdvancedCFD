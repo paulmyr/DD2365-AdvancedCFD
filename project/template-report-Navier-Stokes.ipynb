{
  "nbformat": 4,
  "nbformat_minor": 0,
  "metadata": {
    "colab": {
      "name": "template-report-Navier-Stokes.ipynb",
      "provenance": [],
      "include_colab_link": true
    },
    "kernelspec": {
      "name": "python3",
      "display_name": "Python 3"
    }
  },
  "cells": [
    {
      "cell_type": "markdown",
      "metadata": {
        "id": "view-in-github",
        "colab_type": "text"
      },
      "source": [
        "<a href=\"https://colab.research.google.com/github/paulmyr/DD2365-AdvancedCFD/blob/master/project/template-report-Navier-Stokes.ipynb\" target=\"_parent\"><img src=\"https://colab.research.google.com/assets/colab-badge.svg\" alt=\"Open In Colab\"/></a>"
      ]
    },
    {
      "cell_type": "markdown",
      "metadata": {
        "id": "cyCUwzF-wRoW"
      },
      "source": [
        "# **The Navier-Stokes equations**\n",
        "**Johan Hoffman**"
      ]
    },
    {
      "cell_type": "markdown",
      "metadata": {
        "id": "9x_J5FVuPzbm"
      },
      "source": [
        "# **Abstract**"
      ]
    },
    {
      "cell_type": "markdown",
      "metadata": {
        "id": "6UFTSzW7P8kL"
      },
      "source": [
        "This short report show an example on how to use FEniCS to solve the Navier-Stokes equations, which is used in the course DD2365 Advanced Computation in Fluid Mechanics, at the KTH Royal Institute of Technology.\n",
        "\n",
        "[DD2365 course website.](https://www.kth.se/social/course/DD2365/)"
      ]
    },
    {
      "cell_type": "markdown",
      "metadata": {
        "id": "OkT8J7uOWpT3"
      },
      "source": [
        "# **About the code**"
      ]
    },
    {
      "cell_type": "code",
      "metadata": {
        "id": "Pdll1Xc9WP0e"
      },
      "source": [
        "# This program is an example file for the course\n",
        "# DD2365 Advanced Computation in Fluid Mechanics,\n",
        "# KTH Royal Institute of Technology, Stockholm, Sweden.\n",
        "\n",
        "# Copyright (C) 2020 Johan Hoffman (jhoffman@kth.se)\n",
        "\n",
        "# This file is part of the course DD2365 Advanced Computation in Fluid Mechanics\n",
        "# KTH Royal Institute of Technology, Stockholm, Sweden\n",
        "#\n",
        "# This is free software: you can redistribute it and/or modify\n",
        "# it under the terms of the GNU Lesser General Public License as published by\n",
        "# the Free Software Foundation, either version 3 of the License, or\n",
        "# (at your option) any later version.\n",
        "\n",
        "# This template is maintained by Johan Hoffman\n",
        "# Please report problems to jhoffman@kth.se"
      ],
      "execution_count": 12,
      "outputs": []
    },
    {
      "cell_type": "markdown",
      "metadata": {
        "id": "28xLGz8JX3Hh"
      },
      "source": [
        "# **Set up environment**"
      ]
    },
    {
      "cell_type": "code",
      "metadata": {
        "id": "Xw7VlErAX7NS",
        "outputId": "46299c49-7a7b-421e-85f5-814a1d417e69",
        "colab": {
          "base_uri": "https://localhost:8080/"
        }
      },
      "source": [
        "from google.colab import files\n",
        "import subprocess\n",
        "\n",
        "EXPORT_PARAVIEW = False\n",
        "MOVE_TO_DRIVE = True\n",
        "PLOT_REALTIME = False\n",
        "\n",
        "if MOVE_TO_DRIVE:\n",
        "    from google.colab import drive\n",
        "    drive.mount('/content/drive')\n",
        "\n",
        "import numpy as np\n",
        "import time\n",
        "\n",
        "# Install FEniCS (this may take a long time)\n",
        "try:\n",
        "    import dolfin\n",
        "except ImportError:\n",
        "    !wget \"https://fem-on-colab.github.io/releases/fenics-install-release-real.sh\" -O \"/tmp/fenics-install.sh\" && bash \"/tmp/fenics-install.sh\"\n",
        "    import dolfin\n",
        "\n",
        "from dolfin import *; from mshr import *\n",
        "\n",
        "import dolfin.common.plotting as fenicsplot\n",
        "\n",
        "from matplotlib import pyplot as plt"
      ],
      "execution_count": 13,
      "outputs": [
        {
          "output_type": "stream",
          "name": "stdout",
          "text": [
            "Drive already mounted at /content/drive; to attempt to forcibly remount, call drive.mount(\"/content/drive\", force_remount=True).\n"
          ]
        }
      ]
    },
    {
      "cell_type": "markdown",
      "metadata": {
        "id": "gnO3lhAigLev"
      },
      "source": [
        "# **Introduction**"
      ]
    },
    {
      "cell_type": "markdown",
      "metadata": {
        "id": "l5zMzgPlRAF6"
      },
      "source": [
        "The Navier-Stokes equations take the form\n",
        "\n",
        "$\\dot u + (u\\cdot \\nabla)u + \\nabla p -\\Delta u = f,\\quad \\nabla \\cdot u=0,$\n",
        "\n",
        "together with suitable initial and boundary conditions.\n",
        "\n",
        "Here we present a FEniCS implementation of a stabilized space-time finite element method to solve the Navier-Stokes equations in 2D. The solution is visualized using FEniCS plotting functions, and is also exported as pvd-files which can be visualized in Paraview.\n",
        "\n",
        "We seek a finite element approximation $(u,p)\\in V\\times Q$ such that\n",
        "\n",
        "$(\\dot u + (u\\cdot \\nabla)u, v) - (p,\\nabla \\cdot v) + (\\nu \\nabla u,\\nabla v) + (\\nabla \\cdot u, q) + SD(u,p;v,q) = (f,v),$\n",
        "\n",
        "for all test functions $(v,q) \\in \\hat V\\times \\hat Q$, where $SD(u,p;v,q)$ is a residual based stabilization term.\n",
        "\n",
        "We present an example of flow past a circular cylinder, for which we compute the force on the surface of the cylinder $\\Gamma$ in the direction $\\phi$, by Green's formula:\n",
        "\n",
        "$\n",
        "F(u,p,\\phi)= ~<\\nu \\nabla u\\cdot n-pn, \\Phi>_{\\Gamma} ~=~(\\dot u+(u\\cdot \\nabla)u, \\Phi) + (\\nu \\nabla u,\\nabla \\Phi) - (p,\\nabla \\cdot\\Phi)-(f,\\Phi),\n",
        "$\n",
        "\n",
        "with $\\Phi\\in V$ a fuinction for which $\\Phi\\vert _{\\Gamma}=\\phi$ and $\\Phi\\vert_{\\partial \\Omega \\setminus \\Gamma}=0$. With $\\phi=(1,0)$ we get the drag force $F_D$, and with $\\phi=(0,1)$ the lift force $F_L$. The drag and lift coefficients are obtained by normalization,\n",
        "\n",
        "$\n",
        "c_D = \\frac{2F_D}{\\rho U^2D}, \\quad c_L = \\frac{2F_L}{\\rho U^2D}\n",
        "$\n",
        "\n",
        "where $\\rho$ is the density (here $\\rho=1$), $U$ the characteristic velocity (here $U=1$), and $D$ the characteristic length scale (here $D$ is the diameter of the cylinder).\n",
        "\n",
        "The Reynolds number is defined as $Re=\\frac{UD}{\\nu}$\n",
        "\n",
        "To read more about how to use similar methods for more complex problems, see e.g.\n",
        "\n",
        "[Hoffman, Johan, et al. \"Towards a parameter-free method for high reynolds number turbulent flow simulation based on adaptive finite element approximation.\" Computer Methods in Applied Mechanics and Engineering 288 (2015): 60-74.](https://www.sciencedirect.com/science/article/pii/S0045782514004836)\n"
      ]
    },
    {
      "cell_type": "markdown",
      "metadata": {
        "id": "jOQvukXZq5U5"
      },
      "source": [
        "# **Method**"
      ]
    },
    {
      "cell_type": "markdown",
      "metadata": {
        "id": "wu2fugJ32t8m"
      },
      "source": [
        "**Define domain and mesh**"
      ]
    },
    {
      "cell_type": "code",
      "metadata": {
        "id": "_KBWOVATuBQz",
        "colab": {
          "base_uri": "https://localhost:8080/",
          "height": 430
        },
        "outputId": "40792850-5920-44a2-9753-5560339ec341"
      },
      "source": [
        "# Define rectangular domain\n",
        "L = 1\n",
        "H = 1\n",
        "\n",
        "# Define circle\n",
        "xc = 0.5*L\n",
        "yc = 0.5*H\n",
        "rc = 0.25\n",
        "\n",
        "# Define subdomains (for boundary conditions)\n",
        "class Left(SubDomain):\n",
        "    def inside(self, x, on_boundary):\n",
        "        return near(x[0], 0.0)\n",
        "\n",
        "class Right(SubDomain):\n",
        "    def inside(self, x, on_boundary):\n",
        "        return near(x[0], L)\n",
        "\n",
        "class Lower(SubDomain):\n",
        "    def inside(self, x, on_boundary):\n",
        "        return near(x[1], 0.0)\n",
        "\n",
        "class Upper(SubDomain):\n",
        "    def inside(self, x, on_boundary):\n",
        "        return near(x[1], H)\n",
        "\n",
        "left = Left()\n",
        "right = Right()\n",
        "lower = Lower()\n",
        "upper = Upper()\n",
        "\n",
        "# Generate mesh (examples with and without a hole in the mesh)\n",
        "resolution = 64\n",
        "mesh = RectangleMesh(Point(0.0, 0.0), Point(L, H), L*resolution, H*resolution)\n",
        "#mesh = generate_mesh(Rectangle(Point(0.0,0.0), Point(L,H)) - Circle(Point(xc,yc),rc), resolution)\n",
        "\n",
        "# Local mesh refinement (specified by a cell marker)\n",
        "no_levels = 0\n",
        "for i in range(0,no_levels):\n",
        "  cell_marker = MeshFunction(\"bool\", mesh, mesh.topology().dim())\n",
        "  for cell in cells(mesh):\n",
        "    cell_marker[cell] = False\n",
        "    p = cell.midpoint()\n",
        "    if p.distance(Point(xc, yc)) < 1.0:\n",
        "        cell_marker[cell] = True\n",
        "  mesh = refine(mesh, cell_marker)\n",
        "\n",
        "# Define mesh functions (for boundary conditions)\n",
        "boundaries = MeshFunction(\"size_t\", mesh, mesh.topology().dim()-1)\n",
        "boundaries.set_all(0)\n",
        "left.mark(boundaries, 1)\n",
        "right.mark(boundaries, 2)\n",
        "lower.mark(boundaries, 3)\n",
        "upper.mark(boundaries, 4)\n",
        "\n",
        "# Define periodic domain\n",
        "class PeriodicBoundary(SubDomain):\n",
        "    # Left boundary is \"target domain\" G\n",
        "    def inside(self, x, on_boundary):\n",
        "        return bool(x[0] < DOLFIN_EPS and x[0] > -DOLFIN_EPS and on_boundary)\n",
        "\n",
        "    # Map right boundary (H) to left boundary (G)\n",
        "    def map(self, x, y):\n",
        "        y[0] = x[0] - L\n",
        "        y[1] = x[1]\n",
        "\n",
        "plt.figure()\n",
        "plot(mesh)\n",
        "plt.show()"
      ],
      "execution_count": 14,
      "outputs": [
        {
          "output_type": "display_data",
          "data": {
            "text/plain": [
              "<Figure size 640x480 with 1 Axes>"
            ],
            "image/png": "[encoded data removed]"
          },
          "metadata": {}
        }
      ]
    },
    {
      "cell_type": "markdown",
      "metadata": {
        "id": "-le1iA8u3fS-"
      },
      "source": [
        "**Define finite element approximation spaces**"
      ]
    },
    {
      "cell_type": "code",
      "metadata": {
        "id": "uWeyBcYXuaPq"
      },
      "source": [
        "# Generate finite element spaces (for velocity and pressure)\n",
        "V = VectorFunctionSpace(mesh, \"Lagrange\", 1, constrained_domain=PeriodicBoundary())\n",
        "Q = FunctionSpace(mesh, \"Lagrange\", 1, constrained_domain=PeriodicBoundary())\n",
        "\n",
        "# Define trial and test functions\n",
        "u = TrialFunction(V)\n",
        "p = TrialFunction(Q)\n",
        "v = TestFunction(V)\n",
        "q = TestFunction(Q)"
      ],
      "execution_count": 15,
      "outputs": []
    },
    {
      "cell_type": "markdown",
      "metadata": {
        "id": "OKzE7v-B3o9R"
      },
      "source": [
        "**Define boundary conditions**"
      ]
    },
    {
      "cell_type": "code",
      "metadata": {
        "id": "WAsDDvdKujQT"
      },
      "source": [
        "# Define boundary conditions\n",
        "class DirichletBoundaryLower(SubDomain):\n",
        "    def inside(self, x, on_boundary):\n",
        "        return on_boundary and near(x[1], 0.0)\n",
        "\n",
        "class DirichletBoundaryUpper(SubDomain):\n",
        "    def inside(self, x, on_boundary):\n",
        "        return on_boundary and near(x[1], H)\n",
        "\n",
        "class DirichletBoundaryLeftPassive(SubDomain):\n",
        "    def inside(self, x, on_boundary):\n",
        "        return on_boundary and near(x[0], 0.0) and abs(x[1] - yc) > rc\n",
        "\n",
        "class DirichletBoundaryLeftActive(SubDomain):\n",
        "    def inside(self, x, on_boundary):\n",
        "        return on_boundary and near(x[0], 0.0) and abs(x[1] - yc) <= rc\n",
        "\n",
        "class DirichletBoundaryLeft(SubDomain):\n",
        "    def inside(self, x, on_boundary):\n",
        "        return on_boundary and near(x[0], 0.0)\n",
        "\n",
        "class DirichletBoundaryRight(SubDomain):\n",
        "    def inside(self, x, on_boundary, L=L):\n",
        "        return on_boundary and near(x[0], L)\n",
        "\n",
        "class DirichletBoundaryRightActive(SubDomain):\n",
        "    def inside(self, x, on_boundary, L=L):\n",
        "        return on_boundary and near(x[0], L) and abs(x[1] - yc) <= rc\n",
        "\n",
        "class DirichletBoundaryRightPassive(SubDomain):\n",
        "    def inside(self, x, on_boundary, L=L):\n",
        "        return on_boundary and near(x[0], L) and abs(x[1] - yc) > rc\n",
        "\n",
        "dbc_lower = DirichletBoundaryLower()\n",
        "dbc_upper = DirichletBoundaryUpper()\n",
        "dbc_left = DirichletBoundaryLeft()\n",
        "dbc_left_active = DirichletBoundaryLeftActive()\n",
        "dbc_left_passive = DirichletBoundaryLeftPassive()\n",
        "dbc_right = DirichletBoundaryRight()\n",
        "dbc_right_active = DirichletBoundaryRightActive()\n",
        "dbc_right_passive = DirichletBoundaryRightPassive()\n",
        "\n",
        "# Examples of time dependent and stationary inflow conditions\n",
        "#uin = Expression('4.0*x[1]*(1-x[1])', element = V.sub(0).ufl_element())\n",
        "#uin = Expression('1.0 + 1.0*fabs(sin(t))', element = V.sub(0).ufl_element(), t=0.0)\n",
        "\n",
        "# Generate Initial Conditions - opposite moving streams with perturbation\n",
        "w0 = 0.1\n",
        "sigma = 0.05 / np.sqrt(2.0)\n",
        "\n",
        "vx = Expression(f\"-0.5 + (abs(x[1] - 0.5) <= {rc})\", element = V.sub(0).ufl_element())\n",
        "vy = Expression(f\"0.1 * sin(4 * pi * x[0]) * (exp(-((x[1] - {rc}) * (x[1] - {rc})) / (2 * {sigma}*{sigma})) + exp(-((x[1] - {1-rc}) *(x[1] - {1-rc})) / (2 * {sigma}*{sigma})))\", element = V.sub(1).ufl_element())\n",
        "# uin = Expression((f\"-0.5 + (abs(x[1] - 0.5) <= {rc})\",\n",
        "#                   f\"0.1 * sin(4 * pi * x[0]) * (exp(-((x[1] - {rc}) * (x[1] - {rc})) / (2 * {sigma}*{sigma})) + exp(-((x[1] - {1-rc}) *(x[1] - {1-rc})) / (2 * {sigma}*{sigma})))\"), element = V.ufl_element())\n",
        "\n",
        "\n",
        "uin = 4.0\n",
        "bcu_in0_active = DirichletBC(V.sub(0), vx, dbc_left_active)\n",
        "bcu_in1_active = DirichletBC(V.sub(1), 0.0, dbc_left_active)\n",
        "bcu_in0_passive = DirichletBC(V.sub(0), vx, dbc_left_passive)\n",
        "bcu_in1_passive = DirichletBC(V.sub(1), 0.0, dbc_left_passive)\n",
        "bcu_out0_active = DirichletBC(V.sub(0), vx, dbc_right_active)\n",
        "bcu_out1_active = DirichletBC(V.sub(1), 0.0, dbc_right_active)\n",
        "bcu_out0_passive = DirichletBC(V.sub(0), vx, dbc_right_passive)\n",
        "bcu_out1_passive = DirichletBC(V.sub(1), 0.0, dbc_right_passive)\n",
        "bcu_upp0 = DirichletBC(V.sub(0), 0.0, dbc_upper)\n",
        "bcu_upp1 = DirichletBC(V.sub(1), 0.0, dbc_upper)\n",
        "bcu_low0 = DirichletBC(V.sub(0), 0.0, dbc_lower)\n",
        "bcu_low1 = DirichletBC(V.sub(1), 0.0, dbc_lower)\n",
        "\n",
        "# pin = Expression('5.0*fabs(sin(t))', element = Q.ufl_element(), t=0.0)\n",
        "pin = 2.5\n",
        "pout = 0.0\n",
        "#bcp0 = DirichletBC(Q, pin, dbc_left)\n",
        "bcp1 = DirichletBC(Q, pout, dbc_right)\n",
        "bcp2 = DirichletBC(Q, pout, dbc_left)\n",
        "bcp3 = DirichletBC(Q, pout, dbc_lower)\n",
        "bcp4 = DirichletBC(Q, pout, dbc_upper)\n",
        "\n",
        "#bcu = [bcu_in0, bcu_in1, bcu_upp0, bcu_upp1, bcu_low0, bcu_low1, bcu_obj0, bcu_obj1]\n",
        "#bcu = [bcu_in0_active, bcu_in0_passive, bcu_in1_active, bcu_in1_passive, \\\n",
        "#       bcu_out0_active, bcu_out0_passive, bcu_out1_active, bcu_out1_passive, \\\n",
        "#       bcu_upp1, bcu_low1]\n",
        "# bcp = [bcp1, bcp2, bcp3, bcp4]\n",
        "# bcp = [bcp3, bcp4]\n",
        "\n",
        "bcu = [bcu_upp1, bcu_low1]  # free slip boundary condition on top and bottom\n",
        "bcp = []\n",
        "\n",
        "# Define measure for boundary integration\n",
        "ds = Measure('ds', domain=mesh, subdomain_data=boundaries)"
      ],
      "execution_count": 16,
      "outputs": []
    },
    {
      "cell_type": "markdown",
      "metadata": {
        "id": "SsQLT38gVbn_"
      },
      "source": [
        "# **Results**"
      ]
    },
    {
      "cell_type": "markdown",
      "metadata": {
        "id": "lA2Lsqa84Yld"
      },
      "source": [
        "**Define flow parameters**"
      ]
    },
    {
      "cell_type": "code",
      "metadata": {
        "id": "X7tupdYpuq0x"
      },
      "source": [
        "# Set viscosity\n",
        "# nu = 1.0e-5\n",
        "# RE = UL/nu = 4 * ? / nu\n",
        "\n",
        "\n",
        "re = 1e4\n",
        "nu = 1 / re"
      ],
      "execution_count": 17,
      "outputs": []
    },
    {
      "cell_type": "markdown",
      "metadata": {
        "id": "qI4ZYb5E4w5p"
      },
      "source": [
        "**Define method parameters**"
      ]
    },
    {
      "cell_type": "code",
      "metadata": {
        "id": "6o3zdXWYuuFy"
      },
      "source": [
        "# Define iteration functions\n",
        "# (u0,p0) solution from previous time step\n",
        "# (u1,p1) linearized solution at present time step\n",
        "u0 = Function(V)\n",
        "u1 = Function(V)\n",
        "#p0 = Function(Q)\n",
        "p1 = Function(Q)\n",
        "\n",
        "u0_fvm = Expression((f\"-1 + 2 * (abs(x[1] - 0.5) <= {rc})\",\n",
        "                     f\"0.1 * sin(4 * pi * x[0]) * (exp(-((x[1] - {rc}) * (x[1] - {rc})) / (2 * {sigma}*{sigma})) + exp(-((x[1] - {1-rc}) *(x[1] - {1-rc})) / (2 * {sigma}*{sigma})))\"), element = V.ufl_element())\n",
        "\n",
        "\n",
        "# u0.interpolate(Expression((f\"{uin} * (abs(x[1] - {yc}) <= {rc}) - {uin} * (abs(x[1] - {yc}) > {rc})\", f\"{np.random.normal(0.0, 0.1)}\"), degree=1))\n",
        "u0.interpolate(u0_fvm)\n",
        "p1.interpolate(Expression((f\"{pin}\"), element = Q.ufl_element()))\n",
        "\n",
        "# Set parameters for nonlinear and lienar solvers\n",
        "num_nnlin_iter = 5\n",
        "prec = \"amg\" if has_krylov_solver_preconditioner(\"amg\") else \"default\"\n",
        "\n",
        "# Time step length\n",
        "dt = 0.5*mesh.hmin()"
      ],
      "execution_count": 18,
      "outputs": []
    },
    {
      "cell_type": "markdown",
      "metadata": {
        "id": "y0EnzPyU46PX"
      },
      "source": [
        "**Define variational problem**"
      ]
    },
    {
      "cell_type": "code",
      "metadata": {
        "id": "W-bCOI6LuxFi"
      },
      "source": [
        "# Define variational problem\n",
        "\n",
        "# Stabilization parameters\n",
        "h = CellDiameter(mesh);\n",
        "u_mag = sqrt(dot(u1,u1))\n",
        "d1 = 1.0/sqrt((pow(1.0/dt,2.0) + pow(u_mag/h,2.0)))\n",
        "d2 = h*u_mag\n",
        "\n",
        "# Mean velocities for trapozoidal time stepping\n",
        "um = 0.5*(u + u0)\n",
        "um1 = 0.5*(u1 + u0)\n",
        "\n",
        "# Momentum variational equation on residual form\n",
        "Fu = inner((u - u0)/dt + grad(um)*um1, v)*dx - p1*div(v)*dx + nu*inner(grad(um), grad(v))*dx \\\n",
        "    + d1*inner((u - u0)/dt + grad(um)*um1 + grad(p1), grad(v)*um1)*dx + d2*div(um)*div(v)*dx\n",
        "au = lhs(Fu)\n",
        "Lu = rhs(Fu)\n",
        "\n",
        "# Continuity variational equation on residual form\n",
        "# Fp = d1*inner((u1 - u0)/dt + grad(um1)*um1 + grad(p), grad(q))*dx + div(um1)*q*dx\n",
        "# adding mass matrix.\n",
        "alpha = 10 ** -2\n",
        "Fp = d1*inner((u1 - u0)/dt + grad(um1)*um1 + grad(p), grad(q))*dx + div(um1)*q*dx + alpha*p*q*dx\n",
        "ap = lhs(Fp)\n",
        "Lp = rhs(Fp)"
      ],
      "execution_count": 19,
      "outputs": []
    },
    {
      "cell_type": "markdown",
      "source": [
        "**Triple decomposition**"
      ],
      "metadata": {
        "id": "2Fwx2swKgwXi"
      }
    },
    {
      "cell_type": "code",
      "source": [
        "import scipy.linalg.lapack as la\n",
        "import numpy as np\n",
        "\n",
        "def triple_decomposition(grad_u):\n",
        "    new_grad = np.array([[0,0,0],\n",
        "                         [0,0,0],\n",
        "                         [0,0,0]])\n",
        "    for i in range(2):\n",
        "      for j in range(2):\n",
        "        new_grad[i,j] = grad_u[i,j]\n",
        "    def dselect(arg1,arg2): return (arg2==0)\n",
        "    T = la.dgees(dselect,new_grad,sort_t = 1)[0]\n",
        "    sh = np.linalg.norm([T[0,1],T[0,2],T[1,2]+T[2,1]])\n",
        "    el = np.linalg.norm(np.diag(T))\n",
        "    rr = np.sqrt(2*min(abs(T[1,2]),abs(T[2,1]))**2)\n",
        "    return sh, el, rr"
      ],
      "metadata": {
        "id": "tkUlx0Sfg01L"
      },
      "execution_count": 20,
      "outputs": []
    },
    {
      "cell_type": "markdown",
      "metadata": {
        "id": "nl9EBgZU6tMZ"
      },
      "source": [
        "**Set plotting variables and open export files**"
      ]
    },
    {
      "cell_type": "code",
      "metadata": {
        "id": "Xpu2R7ZMu3bO"
      },
      "source": [
        "# Open files to export solution to Paraview\n",
        "\n",
        "PREFIX = f\"results-KHI-RE{re}-RSL{resolution}\"\n",
        "\n",
        "file_u = File(f\"{PREFIX}/u.pvd\")\n",
        "file_p = File(f\"{PREFIX}/p.pvd\")\n",
        "file_c = File(f\"{PREFIX}/curl.pvd\")\n",
        "\n",
        "file_sh = File(f\"{PREFIX}/st.pvd\")\n",
        "file_el = File(f\"{PREFIX}/el.pvd\")\n",
        "file_rr = File(f\"{PREFIX}/rr.pvd\")\n",
        "\n",
        "rr_integral_array = np.array(0.0)\n",
        "rr_integral_array = np.delete(rr_integral_array, 0)\n",
        "enstrophy_array = np.array(0.0)\n",
        "enstrophy_array = np.delete(enstrophy_array, 0)\n",
        "time = np.array(0.0)\n",
        "time = np.delete(time, 0)"
      ],
      "execution_count": 21,
      "outputs": []
    },
    {
      "cell_type": "markdown",
      "metadata": {
        "id": "F_PajAPw6xdn"
      },
      "source": [
        "**Time stepping algorithm**"
      ]
    },
    {
      "cell_type": "code",
      "metadata": {
        "id": "JUfvsjZPvBc0",
        "colab": {
          "base_uri": "https://localhost:8080/",
          "height": 1000
        },
        "outputId": "31f5e366-890c-4a3b-fbc0-449672948521"
      },
      "source": [
        "#!rm results-NS/*\n",
        "subprocess.run([\"rm\", f\"{PREFIX}/*\"])\n",
        "\n",
        "# Time stepping\n",
        "T = 5\n",
        "t = 0\n",
        "\n",
        "# Set plot frequency\n",
        "plot_time = 0\n",
        "fps = 10\n",
        "plot_freq = fps * T\n",
        "\n",
        "while t < T + DOLFIN_EPS:\n",
        "\n",
        "    #s = 'Time t = ' + repr(t)\n",
        "    #print(s)\n",
        "\n",
        "    #pin.t = t\n",
        "    #uin.t = t\n",
        "\n",
        "    # Solve non-linear problem\n",
        "    k = 0\n",
        "    if t == 0 and (PLOT_REALTIME or EXPORT_PARAVIEW):\n",
        "        if EXPORT_PARAVIEW:\n",
        "            # Save solution to file\n",
        "            V2 = FunctionSpace(mesh, 'CG', 1)\n",
        "            curlu = project(curl(u0), V2)\n",
        "            file_u << u0\n",
        "            file_p << p1\n",
        "            file_c << curlu\n",
        "\n",
        "        if PLOT_REALTIME:\n",
        "            plt.figure(dpi=200)\n",
        "            im = plot(u0, title=\"Velocity\")\n",
        "            plt.colorbar(im)\n",
        "            plt.figure()\n",
        "            im = plot(p1, title=\"Pressure\")\n",
        "            plt.colorbar(im)\n",
        "            plt.show()\n",
        "            t += dt\n",
        "\n",
        "    while k < num_nnlin_iter:\n",
        "\n",
        "        # Assemble momentum matrix and vector\n",
        "        Au = assemble(au)\n",
        "        bu = assemble(Lu)\n",
        "\n",
        "        # Compute velocity solution\n",
        "        [bc.apply(Au, bu) for bc in bcu]\n",
        "        [bc.apply(u1.vector()) for bc in bcu]\n",
        "        solve(Au, u1.vector(), bu, \"bicgstab\", \"default\")\n",
        "\n",
        "        # Assemble continuity matrix and vector\n",
        "        Ap = assemble(ap)\n",
        "        bp = assemble(Lp)\n",
        "\n",
        "        # Compute pressure solution\n",
        "        [bc.apply(Ap, bp) for bc in bcp]\n",
        "        [bc.apply(p1.vector()) for bc in bcp]\n",
        "        solve(Ap, p1.vector(), bp, \"bicgstab\", prec)\n",
        "\n",
        "        k += 1\n",
        "\n",
        "    if t > plot_time or t + dt > T + DOLFIN_EPS:\n",
        "\n",
        "        s = 'Time t = ' + repr(t)\n",
        "        print(s)\n",
        "\n",
        "        # Save solution to file\n",
        "        # Triple decomposition\n",
        "        V = TensorFunctionSpace(mesh, 'P', 1)\n",
        "        grad_u1_prel = nabla_grad(u1)\n",
        "        grad_u1 = project(grad_u1_prel, V)\n",
        "\n",
        "        V2 = FunctionSpace(mesh, 'CG', 1)\n",
        "        shear = Function(V2)\n",
        "        elongation = Function(V2)\n",
        "        rotation = Function(V2)\n",
        "        dofmap = V2.dofmap()\n",
        "\n",
        "        # Divergence\n",
        "        divu = Function(V2)\n",
        "        curlu = project(curl(u1), V2)\n",
        "\n",
        "        for vertex in vertices(mesh):\n",
        "            point = vertex.point()\n",
        "            grad_u1_point = grad_u1(point) # Evaluate the gradient tensor at the current point\n",
        "            grad_u1_matrix = matrix = np.array([\n",
        "                                                [grad_u1_point[0],grad_u1_point[1] ],\n",
        "                                                [grad_u1_point[2], grad_u1_point[3]]\n",
        "                                                                                      ])\n",
        "            sh, el, rr = triple_decomposition(grad_u1_matrix)\n",
        "            vertex_index = vertex.index()\n",
        "            dof_index = vertex_to_dof_map(V2)[vertex_index]\n",
        "            shear.vector()[dof_index] = sh\n",
        "            elongation.vector()[dof_index] = el\n",
        "            rotation.vector()[dof_index] = rr\n",
        "\n",
        "            divu_vert = grad_u1_point[0] + grad_u1_point[3]\n",
        "            divu.vector()[dof_index] = divu_vert\n",
        "\n",
        "        # Enstrophy (see https://en.wikipedia.org/wiki/Enstrophy#Incompressible_flow)\n",
        "        enstrophy = assemble(curlu**2 * dx)\n",
        "        enstrophy_array = np.append(enstrophy_array, enstrophy)\n",
        "\n",
        "\n",
        "        rr_integral = assemble(rotation * dx)\n",
        "        rr_integral_array = np.append(rr_integral_array, rr_integral)\n",
        "        time = np.append(time, t)\n",
        "\n",
        "\n",
        "        if EXPORT_PARAVIEW:\n",
        "            file_u << u1\n",
        "            file_p << p1\n",
        "            file_c << curlu\n",
        "\n",
        "            file_sh << shear\n",
        "            file_el << elongation\n",
        "            file_rr << rotation\n",
        "\n",
        "            if t + dt > T + DOLFIN_EPS:\n",
        "                plt.figure()\n",
        "                plt.plot(time, enstrophy_array)\n",
        "                plt.title(\"Enstrophy\")\n",
        "                plt.savefig(\"enstrophy.png\")\n",
        "\n",
        "        if PLOT_REALTIME and t + dt < T + DOLFIN_EPS:\n",
        "            # Plot Triple Decomposition\n",
        "            fig, axes = plt.subplots(1, 3, figsize=(15, 5))\n",
        "            ax = plt.subplot(1, 3, 1)\n",
        "            im = plot(shear, title = \"Shear\")\n",
        "            plt.colorbar(im)\n",
        "            ax = plt.subplot(1, 3, 2)\n",
        "            im = plot(elongation, title = \"Strain\")\n",
        "            plt.colorbar(im)\n",
        "            ax = plt.subplot(1, 3, 3)\n",
        "            im = plot(rotation, title = \"Rotation\")\n",
        "            plt.colorbar(im)\n",
        "            plt.tight_layout()\n",
        "            plt.show()\n",
        "\n",
        "            fig, axes = plt.subplots(1, 3, figsize=(15, 5))\n",
        "            ax = plt.subplot(1, 3, 1)\n",
        "            im = plot(p1, title=\"Pressure\")\n",
        "            plt.colorbar(im)\n",
        "            ax = plt.subplot(1, 3, 2)\n",
        "            im = plot(curlu, title=\"Vorticity\")\n",
        "            plt.colorbar(im)\n",
        "            ax = plt.subplot(1, 3, 3)\n",
        "            plt.plot(time, enstrophy_array)\n",
        "            plt.title(\"Enstrophy\")\n",
        "            plt.tight_layout()\n",
        "            plt.show()\n",
        "\n",
        "            fig, axes = plt.subplots(1, 2, figsize=(10, 5))\n",
        "            ax = plt.subplot(1, 2, 1)\n",
        "            im = plot(rotation, title=\"Rotation\")\n",
        "            plt.colorbar(im)\n",
        "            ax = plt.subplot(1, 2, 2)\n",
        "            plt.plot(time, rr_integral_array)\n",
        "            plt.title(\"Rotation Integral\")\n",
        "            plt.tight_layout()\n",
        "            plt.show()\n",
        "\n",
        "\n",
        "            # Plot divergence\n",
        "            # plt.figure()\n",
        "            # im = plot(divu, title=\"divergence\")\n",
        "            # plt.colorbar(im)\n",
        "\n",
        "            plt.figure(dpi=200)\n",
        "            im = plot(u1, title=\"Velocity\")\n",
        "            plt.colorbar(im)\n",
        "            plt.show()\n",
        "\n",
        "            plt.figure()\n",
        "            im = plot(p1, title=\"Pressure\")\n",
        "            plt.colorbar(im)\n",
        "            plt.show()\n",
        "\n",
        "        if t + dt >= T + DOLFIN_EPS:\n",
        "            plt.figure(dpi=200)\n",
        "            plt.plot(time, rr_integral_array)\n",
        "            plt.title(\"Rotation Integral\")\n",
        "            plt.savefig(f\"{Prefix}-rr_integral.png\")\n",
        "            plt.show()\n",
        "\n",
        "\n",
        "        plot_time += T/plot_freq\n",
        "\n",
        "\n",
        "    # Update time step\n",
        "    u0.assign(u1)\n",
        "    t += dt\n",
        "\n",
        "\n",
        "if EXPORT_PARAVIEW:\n",
        "    #!tar -czvf results-NS.tar.gz results-NS\n",
        "    subprocess.run([\"mv\", \"enstrophy.png\", f\"{PREFIX}/\"])\n",
        "    subprocess.run([\"tar\", \"-czvf\", f\"{PREFIX}.tar.gz\", f\"{PREFIX}\"])\n",
        "    # files.download(f'{PREFIX}.tar.gz')\n",
        "\n",
        "    # Save to google drive:\n",
        "    #!cp results-NS.tar.gz drive/MyDrive/data/\n",
        "    if MOVE_TO_DRIVE:\n",
        "        subprocess.run([\"cp\", f\"{PREFIX}.tar.gz\", \"drive/MyDrive/data/\"])\n",
        "\n",
        "if MOVE_TO_DRIVE:\n",
        "    subprocess.run([\"cp\", f\"{PREFIX}-rr_integral.png\", \"drive/MyDrive/data/\"])"
      ],
      "execution_count": 22,
      "outputs": [
        {
          "output_type": "stream",
          "name": "stdout",
          "text": [
            "Calling FFC just-in-time (JIT) compiler, this may take some time.\n"
          ]
        },
        {
          "output_type": "stream",
          "name": "stderr",
          "text": [
            "Level 25:FFC:Calling FFC just-in-time (JIT) compiler, this may take some time.\n",
            "INFO:FFC:Compiling form ffc_form_3e04d61668749cb98c88dd34fffd5fe923046bc0\n",
            "\n",
            "INFO:FFC:Compiler stage 1: Analyzing form(s)\n",
            "INFO:FFC:-----------------------------------\n",
            "DEBUG:FFC:  Preprocessing form using 'uflacs' representation family.\n",
            "INFO:FFC:  \n",
            "INFO:FFC:  Geometric dimension:       2\n",
            "  Number of cell subdomains: 0\n",
            "  Rank:                      2\n",
            "  Arguments:                 '(v_0, v_1)'\n",
            "  Number of coefficients:    2\n",
            "  Coefficients:              '[f_48300, f_48303]'\n",
            "  Unique elements:           'Vector<2 x CG1(?,?)>'\n",
            "  Unique sub elements:       'Vector<2 x CG1(?,?)>, CG1(?,?)'\n",
            "  \n",
            "INFO:FFC:  representation:    auto --> uflacs\n",
            "INFO:FFC:  quadrature_rule:   auto --> default\n",
            "INFO:FFC:  quadrature_degree: auto --> 10\n",
            "INFO:FFC:  quadrature_degree: 10\n",
            "INFO:FFC:  \n",
            "INFO:FFC:Compiler stage 1 finished in 0.0354114 seconds.\n",
            "\n",
            "INFO:FFC:Compiler stage 2: Computing intermediate representation\n",
            "INFO:FFC:-------------------------------------------------------\n",
            "INFO:FFC:  Computing representation of 0 elements\n",
            "INFO:FFC:  Computing representation of 0 dofmaps\n",
            "INFO:FFC:  Computing representation of 0 coordinate mappings\n",
            "INFO:FFC:  Computing representation of integrals\n",
            "INFO:FFC:  Computing uflacs representation\n",
            "DEBUG:FFC:  Reusing element from cache\n",
            "DEBUG:FFC:  Reusing element from cache\n",
            "DEBUG:FFC:  Reusing element from cache\n",
            "DEBUG:FFC:  Reusing element from cache\n",
            "DEBUG:FFC:  Reusing element from cache\n",
            "DEBUG:FFC:  Reusing element from cache\n",
            "DEBUG:FFC:  Reusing element from cache\n",
            "DEBUG:FFC:  Reusing element from cache\n",
            "DEBUG:FFC:  Reusing element from cache\n",
            "DEBUG:FFC:  Reusing element from cache\n",
            "DEBUG:FFC:  Reusing element from cache\n",
            "DEBUG:FFC:  Reusing element from cache\n",
            "DEBUG:UFL_LEGACY:Blocks of each mode: \n",
            "  24\tpartial\n",
            "INFO:FFC:  Computing representation of forms\n",
            "INFO:FFC:  \n",
            "INFO:FFC:Compiler stage 2 finished in 0.0739346 seconds.\n",
            "\n",
            "INFO:FFC:Compiler stage 3: Optimizing intermediate representation\n",
            "INFO:FFC:--------------------------------------------------------\n",
            "INFO:FFC:  Optimizing uflacs representation\n",
            "INFO:FFC:  \n",
            "INFO:FFC:Compiler stage 3 finished in 0.00409102 seconds.\n",
            "\n",
            "INFO:FFC:Compiler stage 4: Generating code\n",
            "INFO:FFC:---------------------------------\n",
            "INFO:FFC:  Generating code for 0 finite_element(s)\n",
            "INFO:FFC:  Generating code for 0 dofmap(s)\n",
            "INFO:FFC:  Generating code for 0 coordinate_mapping(s)\n",
            "INFO:FFC:  Generating code for integrals\n",
            "INFO:FFC:  Generating code from ffc.uflacs representation\n",
            "DEBUG:FFC:  Reusing element from cache\n",
            "DEBUG:FFC:  Reusing element from cache\n",
            "DEBUG:FFC:  Reusing element from cache\n",
            "DEBUG:FFC:  Reusing element from cache\n",
            "DEBUG:FFC:  Reusing element from cache\n",
            "DEBUG:FFC:  Reusing element from cache\n",
            "INFO:FFC:  Generating code for forms\n",
            "INFO:FFC:  \n",
            "INFO:FFC:Compiler stage 4 finished in 0.0455868 seconds.\n",
            "\n",
            "INFO:FFC:Compiler stage 4.1 finished in 2.57492e-05 seconds.\n",
            "\n",
            "INFO:FFC:Compiler stage 5: Formatting code\n",
            "INFO:FFC:---------------------------------\n",
            "INFO:FFC:  \n",
            "INFO:FFC:Compiler stage 5 finished in 0.00304794 seconds.\n",
            "\n",
            "INFO:FFC:FFC finished in 0.167179 seconds.\n"
          ]
        },
        {
          "output_type": "stream",
          "name": "stdout",
          "text": [
            "Calling FFC just-in-time (JIT) compiler, this may take some time.\n"
          ]
        },
        {
          "output_type": "stream",
          "name": "stderr",
          "text": [
            "Level 25:FFC:Calling FFC just-in-time (JIT) compiler, this may take some time.\n",
            "INFO:FFC:Compiling form ffc_form_0d8da9ebca1b0b73aa9a2d967374da20daf79814\n",
            "\n",
            "INFO:FFC:Compiler stage 1: Analyzing form(s)\n",
            "INFO:FFC:-----------------------------------\n",
            "DEBUG:FFC:  Preprocessing form using 'uflacs' representation family.\n",
            "INFO:FFC:  \n",
            "INFO:FFC:  Geometric dimension:       2\n",
            "  Number of cell subdomains: 0\n",
            "  Rank:                      1\n",
            "  Arguments:                 '(v_0)'\n",
            "  Number of coefficients:    3\n",
            "  Coefficients:              '[f_48300, f_48303, f_48306]'\n",
            "  Unique elements:           'Vector<2 x CG1(?,?)>, CG1(?,?)'\n",
            "  Unique sub elements:       'Vector<2 x CG1(?,?)>, CG1(?,?)'\n",
            "  \n",
            "INFO:FFC:  representation:    auto --> uflacs\n",
            "INFO:FFC:  quadrature_rule:   auto --> default\n",
            "INFO:FFC:  quadrature_degree: auto --> 10\n",
            "INFO:FFC:  quadrature_degree: 10\n",
            "INFO:FFC:  \n",
            "INFO:FFC:Compiler stage 1 finished in 0.0350344 seconds.\n",
            "\n",
            "INFO:FFC:Compiler stage 2: Computing intermediate representation\n",
            "INFO:FFC:-------------------------------------------------------\n",
            "INFO:FFC:  Computing representation of 0 elements\n",
            "INFO:FFC:  Computing representation of 0 dofmaps\n",
            "INFO:FFC:  Computing representation of 0 coordinate mappings\n",
            "INFO:FFC:  Computing representation of integrals\n",
            "INFO:FFC:  Computing uflacs representation\n",
            "DEBUG:FFC:  Reusing element from cache\n",
            "DEBUG:FFC:  Reusing element from cache\n",
            "DEBUG:FFC:  Reusing element from cache\n",
            "DEBUG:FFC:  Reusing element from cache\n",
            "DEBUG:FFC:  Reusing element from cache\n",
            "DEBUG:FFC:  Reusing element from cache\n",
            "DEBUG:FFC:  Reusing element from cache\n",
            "DEBUG:FFC:  Reusing element from cache\n",
            "DEBUG:FFC:  Reusing element from cache\n",
            "DEBUG:FFC:  Reusing element from cache\n",
            "DEBUG:FFC:  Reusing element from cache\n",
            "DEBUG:FFC:  Reusing element from cache\n",
            "DEBUG:FFC:  Reusing element from cache\n",
            "DEBUG:UFL_LEGACY:Blocks of each mode: \n",
            "  6\tfull\n",
            "INFO:FFC:  Computing representation of forms\n",
            "INFO:FFC:  \n",
            "INFO:FFC:Compiler stage 2 finished in 0.0759332 seconds.\n",
            "\n",
            "INFO:FFC:Compiler stage 3: Optimizing intermediate representation\n",
            "INFO:FFC:--------------------------------------------------------\n",
            "INFO:FFC:  Optimizing uflacs representation\n",
            "INFO:FFC:  \n",
            "INFO:FFC:Compiler stage 3 finished in 0.00320792 seconds.\n",
            "\n",
            "INFO:FFC:Compiler stage 4: Generating code\n",
            "INFO:FFC:---------------------------------\n",
            "INFO:FFC:  Generating code for 0 finite_element(s)\n",
            "INFO:FFC:  Generating code for 0 dofmap(s)\n",
            "INFO:FFC:  Generating code for 0 coordinate_mapping(s)\n",
            "INFO:FFC:  Generating code for integrals\n",
            "INFO:FFC:  Generating code from ffc.uflacs representation\n",
            "DEBUG:FFC:  Reusing element from cache\n",
            "DEBUG:FFC:  Reusing element from cache\n",
            "DEBUG:FFC:  Reusing element from cache\n",
            "DEBUG:FFC:  Reusing element from cache\n",
            "DEBUG:FFC:  Reusing element from cache\n",
            "DEBUG:FFC:  Reusing element from cache\n",
            "INFO:FFC:  Generating code for forms\n",
            "INFO:FFC:  \n",
            "INFO:FFC:Compiler stage 4 finished in 0.0227873 seconds.\n",
            "\n",
            "INFO:FFC:Compiler stage 4.1 finished in 3.33786e-06 seconds.\n",
            "\n",
            "INFO:FFC:Compiler stage 5: Formatting code\n",
            "INFO:FFC:---------------------------------\n",
            "INFO:FFC:  \n",
            "INFO:FFC:Compiler stage 5 finished in 0.00262237 seconds.\n",
            "\n",
            "INFO:FFC:FFC finished in 0.144528 seconds.\n"
          ]
        },
        {
          "output_type": "stream",
          "name": "stdout",
          "text": [
            "Time t = 0.011048543456039806\n",
            "Time t = 0.11048543456039808\n",
            "Time t = 0.20992232566475638\n",
            "Time t = 0.30935921676911454\n",
            "Time t = 0.4087961078734726\n",
            "Time t = 0.5082329989778307\n",
            "Time t = 0.6076698900821887\n",
            "Time t = 0.7071067811865468\n",
            "Time t = 0.8065436722909048\n",
            "Time t = 0.9059805633952629\n",
            "Time t = 1.005417454499621\n",
            "Time t = 1.10485434560398\n",
            "Time t = 1.2042912367083392\n",
            "Time t = 1.3037281278126982\n",
            "Time t = 1.4031650189170572\n",
            "Time t = 1.5026019100214163\n",
            "Time t = 1.6020388011257753\n",
            "Time t = 1.7014756922301344\n",
            "Time t = 1.8009125833344934\n",
            "Time t = 1.9003494744388525\n",
            "Time t = 2.0108349089992514\n",
            "Time t = 2.1102718001036105\n",
            "Time t = 2.2097086912079695\n",
            "Time t = 2.3091455823123286\n",
            "Time t = 2.4085824734166876\n",
            "Time t = 2.5080193645210467\n",
            "Time t = 2.6074562556254057\n",
            "Time t = 2.7068931467297648\n",
            "Time t = 2.806330037834124\n",
            "Time t = 2.905766928938483\n",
            "Time t = 3.005203820042842\n",
            "Time t = 3.104640711147201\n",
            "Time t = 3.20407760225156\n",
            "Time t = 3.303514493355919\n",
            "Time t = 3.402951384460278\n",
            "Time t = 3.502388275564637\n",
            "Time t = 3.601825166668996\n",
            "Time t = 3.7012620577733553\n",
            "Time t = 3.8006989488777143\n",
            "Time t = 3.9001358399820734\n",
            "Time t = 4.010621274542472\n",
            "Time t = 4.110058165646831\n",
            "Time t = 4.20949505675119\n",
            "Time t = 4.308931947855549\n",
            "Time t = 4.408368838959908\n",
            "Time t = 4.507805730064267\n",
            "Time t = 4.607242621168626\n",
            "Time t = 4.706679512272985\n",
            "Time t = 4.806116403377344\n",
            "Time t = 4.905553294481703\n",
            "Time t = 4.9939416421300225\n"
          ]
        },
        {
          "output_type": "display_data",
          "data": {
            "text/plain": [
              "<Figure size 1280x960 with 1 Axes>"
            ],
            "image/png": "[encoded data removed]"
          },
          "metadata": {}
        }
      ]
    }
  ]
}