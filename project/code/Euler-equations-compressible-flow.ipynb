{
  "nbformat": 4,
  "nbformat_minor": 0,
  "metadata": {
    "colab": {
      "name": "template-report-Navier-Stokes.ipynb",
      "provenance": [],
      "include_colab_link": true
    },
    "kernelspec": {
      "name": "python3",
      "display_name": "Python 3"
    }
  },
  "cells": [
    {
      "cell_type": "markdown",
      "metadata": {
        "id": "view-in-github",
        "colab_type": "text"
      },
      "source": [
        "<a href=\"https://colab.research.google.com/github/paulmyr/DD2365-AdvancedCFD/blob/master/project/code/Euler-equations-compressible-flow.ipynb\" target=\"_parent\"><img src=\"https://colab.research.google.com/assets/colab-badge.svg\" alt=\"Open In Colab\"/></a>"
      ]
    },
    {
      "cell_type": "markdown",
      "metadata": {
        "id": "cyCUwzF-wRoW"
      },
      "source": [
        "# **The Euler equations for compressible flow**\n",
        "**Johan Hoffman**"
      ]
    },
    {
      "cell_type": "markdown",
      "metadata": {
        "id": "9x_J5FVuPzbm"
      },
      "source": [
        "# **Abstract**"
      ]
    },
    {
      "cell_type": "markdown",
      "metadata": {
        "id": "6UFTSzW7P8kL"
      },
      "source": [
        "This short report show an example on how to use FEniCS to solve the Euler equations using FEM, which is used in the course DD2365 Advanced Computation in Fluid Mechanics, at the KTH Royal Institute of Technology.\n",
        "\n",
        "[DD2365 course website.](https://www.kth.se/social/course/DD2365/)"
      ]
    },
    {
      "cell_type": "markdown",
      "metadata": {
        "id": "OkT8J7uOWpT3"
      },
      "source": [
        "# **About the code**"
      ]
    },
    {
      "cell_type": "code",
      "metadata": {
        "id": "Pdll1Xc9WP0e"
      },
      "source": [
        "# This program is an example file for the course\n",
        "# DD2365 Advanced Computation in Fluid Mechanics,\n",
        "# KTH Royal Institute of Technology, Stockholm, Sweden,\n",
        "\n",
        "# Copyright (C) 2021 Johan Hoffman (jhoffman@kth.se)\n",
        "\n",
        "# This file is part of the course DD2365 Advanced Computation in Fluid Mechanics\n",
        "# KTH Royal Institute of Technology, Stockholm, Sweden\n",
        "#\n",
        "# This is free software: you can redistribute it and/or modify\n",
        "# it under the terms of the GNU Lesser General Public License v2.\n",
        "\n",
        "# This template is maintained by Johan Hoffman\n",
        "# Please report problems to jhoffman@kth.se"
      ],
      "execution_count": 1,
      "outputs": []
    },
    {
      "cell_type": "markdown",
      "metadata": {
        "id": "28xLGz8JX3Hh"
      },
      "source": [
        "# **Set up environment**"
      ]
    },
    {
      "cell_type": "code",
      "metadata": {
        "id": "Xw7VlErAX7NS"
      },
      "source": [
        "# Load neccessary modules.\n",
        "from google.colab import files\n",
        "\n",
        "import numpy as np\n",
        "import time\n",
        "\n",
        "# Install FEniCS (this may take a long time)\n",
        "try:\n",
        "    import dolfin\n",
        "except ImportError:\n",
        "    !wget \"https://fem-on-colab.github.io/releases/fenics-install-release-real.sh\" -O \"/tmp/fenics-install.sh\" && bash \"/tmp/fenics-install.sh\"\n",
        "    import dolfin\n",
        "\n",
        "from dolfin import *; from mshr import *\n",
        "\n",
        "import dolfin.common.plotting as fenicsplot\n",
        "\n",
        "from matplotlib import pyplot as plt"
      ],
      "execution_count": 2,
      "outputs": []
    },
    {
      "cell_type": "markdown",
      "metadata": {
        "id": "gnO3lhAigLev"
      },
      "source": [
        "# **Introduction**"
      ]
    },
    {
      "cell_type": "markdown",
      "source": [
        "Note for me, the Euler equations specified below are in conservation form.\n",
        "\n",
        "With the notation form Anderson, the continuity, momentum and energy equation:\n",
        "\n",
        "$\n",
        "\\begin{eqnarray}\n",
        "\\frac{\\partial \\rho}{\\partial t} + \\nabla \\cdot (\\rho \\mathbf{V}) = 0, \\\\\n",
        "\\frac{\\partial m}{\\partial t} + \\nabla \\cdot (m \\mathbf{V}) + \\nabla p = f, \\\\\n",
        "\\frac{\\partial E}{\\partial t} + \\nabla \\cdot (E \\mathbf{V}) + \\nabla \\cdot(p\\mathbf{V})= 0,\n",
        "\\end{eqnarray}\n",
        "$\n",
        "\n"
      ],
      "metadata": {
        "id": "RlzptJiM6B3b"
      }
    },
    {
      "cell_type": "markdown",
      "metadata": {
        "id": "l5zMzgPlRAF6"
      },
      "source": [
        "The Euler equations take the form\n",
        "\n",
        "$\n",
        "\\begin{eqnarray}\n",
        "\\dot \\rho + \\nabla \\cdot (u \\rho) = 0, \\\\\n",
        "\\dot m + \\nabla \\cdot (u m) + \\nabla p = f, \\\\\n",
        "\\dot E + \\nabla \\cdot (u E) + \\nabla \\cdot(up)= 0,\n",
        "\\end{eqnarray}\n",
        "$\n",
        "\n",
        "together with suitable initial and boundary conditions.\n",
        "\n",
        "Here velocity is given by\n",
        "\n",
        "$u = \\frac{m}{\\rho},$\n",
        "\n",
        "and for a perfect gas, the pressure is given by\n",
        "\n",
        "$p = (\\gamma - 1)(E-\\frac{\\vert u\\vert^2}{2}),$\n",
        "\n",
        "where $\\gamma = 1.4$ is the specific heat ratio for air, and we get the temperature,\n",
        "\n",
        "$T = \\frac{E}{\\rho} - \\frac{\\vert u\\vert^2}{2},$\n",
        "\n",
        "the speed of sound,\n",
        "\n",
        "$\\sqrt{\\gamma(\\gamma-1)T},$\n",
        "\n",
        "and the Mach number,\n",
        "\n",
        "$M = \\frac{\\vert u\\vert }{c}.$\n",
        "\n",
        "Here we present a FEniCS implementation of a stabilized finite element method to solve the Euler equations in 2D. The solution is visualized using FEniCS plotting functions, and is also exported as pvd-files which can be visualized in Paraview."
      ]
    },
    {
      "cell_type": "markdown",
      "source": [
        "- [Link to medium article](https://levelup.gitconnected.com/create-your-own-finite-volume-fluid-simulation-with-python-8f9eab0b8305)"
      ],
      "metadata": {
        "id": "jynRMwnO7_Db"
      }
    },
    {
      "cell_type": "markdown",
      "metadata": {
        "id": "jOQvukXZq5U5"
      },
      "source": [
        "# **Method**"
      ]
    },
    {
      "cell_type": "markdown",
      "metadata": {
        "id": "wu2fugJ32t8m"
      },
      "source": [
        "**Define domain and mesh**"
      ]
    },
    {
      "cell_type": "code",
      "metadata": {
        "id": "_KBWOVATuBQz",
        "colab": {
          "base_uri": "https://localhost:8080/",
          "height": 430
        },
        "outputId": "b9c39a75-3ef1-4d4e-ebce-5fa4833705ef"
      },
      "source": [
        "# Define rectangular domain\n",
        "L = 1.0\n",
        "H = 1.0\n",
        "\n",
        "# Define circle\n",
        "# xc = 0.8\n",
        "# yc = 0.5*H\n",
        "# rc = 0.2\n",
        "\n",
        "# Specific heat ratio for air\n",
        "gamma = 1.4\n",
        "\n",
        "# Generate mesh (examples with and without a hole in the mesh)\n",
        "resolution = 64\n",
        "mesh = RectangleMesh(Point(0.0, 0.0), Point(L, H), int(L*resolution), int(H*resolution))\n",
        "#mesh = generate_mesh(Rectangle(Point(0.0,0.0), Point(L,H)) - Circle(Point(xc,yc),rc), resolution)\n",
        "\n",
        "# Local mesh refinement (specified by a cell marker)\n",
        "no_levels = 0\n",
        "for i in range(0,no_levels):\n",
        "  cell_marker = MeshFunction(\"bool\", mesh, mesh.topology().dim())\n",
        "  for cell in cells(mesh):\n",
        "    cell_marker[cell] = False\n",
        "    p = cell.midpoint()\n",
        "    if p.distance(Point(xc, yc)) < 1.0:\n",
        "        cell_marker[cell] = True\n",
        "  mesh = refine(mesh, cell_marker)\n",
        "\n",
        "# Define subdomains (for boundary conditions)\n",
        "class Left(SubDomain):\n",
        "    def inside(self, x, on_boundary):\n",
        "        return near(x[0], 0.0)\n",
        "\n",
        "class Right(SubDomain):\n",
        "    def inside(self, x, on_boundary):\n",
        "        return near(x[0], L)\n",
        "\n",
        "class Lower(SubDomain):\n",
        "    def inside(self, x, on_boundary):\n",
        "        return near(x[1], 0.0)\n",
        "\n",
        "class Upper(SubDomain):\n",
        "    def inside(self, x, on_boundary):\n",
        "        return near(x[1], H)\n",
        "\n",
        "class Object(SubDomain):\n",
        "    def inside(self, x, on_boundary, L=L, H=H):\n",
        "        return on_boundary and (not near(x[0], 0.0)) and (not near(x[0], L)) and (not near(x[1], 0.0)) and (not near(x[1], H))\n",
        "\n",
        "left = Left()\n",
        "right = Right()\n",
        "lower = Lower()\n",
        "upper = Upper()\n",
        "object = Object()\n",
        "\n",
        "# Define mesh functions (for boundary conditions)\n",
        "boundaries = MeshFunction(\"size_t\", mesh, mesh.topology().dim()-1)\n",
        "boundaries.set_all(0)\n",
        "left.mark(boundaries, 1)\n",
        "right.mark(boundaries, 2)\n",
        "lower.mark(boundaries, 3)\n",
        "upper.mark(boundaries, 4)\n",
        "object.mark(boundaries, 5)\n",
        "\n",
        "# Define measure for boundary integration\n",
        "ds = Measure('ds', domain=mesh, subdomain_data=boundaries)\n",
        "\n",
        "plt.figure()\n",
        "plot(mesh)\n",
        "plt.show()"
      ],
      "execution_count": 3,
      "outputs": [
        {
          "output_type": "display_data",
          "data": {
            "text/plain": [
              "<Figure size 640x480 with 1 Axes>"
            ],
            "image/png": "[encoded data removed]"
          },
          "metadata": {}
        }
      ]
    },
    {
      "cell_type": "markdown",
      "metadata": {
        "id": "-le1iA8u3fS-"
      },
      "source": [
        "**Define finite element approximation spaces**"
      ]
    },
    {
      "cell_type": "code",
      "metadata": {
        "id": "uWeyBcYXuaPq"
      },
      "source": [
        "# Generate finite element spaces (for density, momentum, total energy)\n",
        "R = FunctionSpace(mesh, \"Lagrange\", 1)\n",
        "V = VectorFunctionSpace(mesh, \"Lagrange\", 1)\n",
        "Q = FunctionSpace(mesh, \"Lagrange\", 1)\n",
        "\n",
        "# Define trial and test functions\n",
        "r = TrialFunction(R)  # density (rho)\n",
        "m = TrialFunction(V)  # momentum\n",
        "E = TrialFunction(Q)  # energy\n",
        "d = TestFunction(R)\n",
        "v = TestFunction(V)\n",
        "q = TestFunction(Q)"
      ],
      "execution_count": 4,
      "outputs": []
    },
    {
      "cell_type": "markdown",
      "metadata": {
        "id": "OKzE7v-B3o9R"
      },
      "source": [
        "**Define boundary conditions**"
      ]
    },
    {
      "cell_type": "code",
      "metadata": {
        "id": "WAsDDvdKujQT"
      },
      "source": [
        "# Define boundary conditions\n",
        "class DirichletBoundaryLower(SubDomain):\n",
        "    def inside(self, x, on_boundary):\n",
        "        return on_boundary and near(x[1], 0.0)\n",
        "\n",
        "class DirichletBoundaryUpper(SubDomain):\n",
        "    def inside(self, x, on_boundary, H=H):\n",
        "        return on_boundary and near(x[1], H)\n",
        "\n",
        "class DirichletBoundaryLeftPassive(SubDomain):\n",
        "    def inside(self, x, on_boundary):\n",
        "        return on_boundary and near(x[0], 0.0) and abs(x[1] - 0.5) > 0.15\n",
        "\n",
        "class DirichletBoundaryLeftActive(SubDomain):\n",
        "    def inside(self, x, on_boundary):\n",
        "        return on_boundary and near(x[0], 0.0) and abs(x[1] - 0.5) <= 0.15\n",
        "\n",
        "class DirichletBoundaryLeft(SubDomain):\n",
        "    def inside(self, x, on_boundary):\n",
        "        return on_boundary and near(x[0], 0.0)\n",
        "\n",
        "class DirichletBoundaryRight(SubDomain):\n",
        "    def inside(self, x, on_boundary, L=L):\n",
        "        return on_boundary and near(x[0], L)\n",
        "\n",
        "class DirichletBoundaryRightActive(SubDomain):\n",
        "    def inside(self, x, on_boundary, L=L):\n",
        "        return on_boundary and near(x[0], L) and abs(x[1] - 0.5) <= 0.15\n",
        "\n",
        "class DirichletBoundaryRightPassive(SubDomain):\n",
        "    def inside(self, x, on_boundary, L=L):\n",
        "        return on_boundary and near(x[0], L) and abs(x[1] - 0.5) > 0.15\n",
        "\n",
        "class DirichletBoundaryObjects(SubDomain):\n",
        "    def inside(self, x, on_boundary, L=L, H=H):\n",
        "        return on_boundary and (not near(x[0], 0.0)) and (not near(x[0], L)) and (not near(x[1], 0.0)) and (not near(x[1], H))\n",
        "\n",
        "dbc_lower = DirichletBoundaryLower()\n",
        "dbc_upper = DirichletBoundaryUpper()\n",
        "dbc_left = DirichletBoundaryLeft()\n",
        "dbc_left_active = DirichletBoundaryLeftActive()\n",
        "dbc_left_passive = DirichletBoundaryLeftPassive()\n",
        "dbc_right = DirichletBoundaryRight()\n",
        "dbc_right_active = DirichletBoundaryRightActive()\n",
        "dbc_right_passive = DirichletBoundaryRightPassive()\n",
        "dbc_objects = DirichletBoundaryObjects()\n",
        "\n",
        "\n",
        "# m_in = Expression('4.0*(abs(x[1] - 0.5))', element = V.sub(0).ufl_element())\n",
        "m_in_vel = 8.0\n",
        "m_in = Expression((f\"{m_in_vel}\", \"0.0\"), degree=1)\n",
        "m_in_neg = Expression((f\"-1.0 * {m_in_vel}\", \"0.0\"), degree=1)\n",
        "# m_in = [m_in_vel, 0.0]\n",
        "\n",
        "\n",
        "bcm_upp = DirichletBC(V, [0.0, 0.0], dbc_upper)\n",
        "bcm_low = DirichletBC(V, [0.0, 0.0], dbc_lower)\n",
        "# bcm_left = DirichletBC(V, [0.0, 0.0], dbc_left_passive)\n",
        "bcm_left_passive = DirichletBC(V, m_in_neg, dbc_left_passive)\n",
        "bcm_left_active = DirichletBC(V, m_in, dbc_left_active) #\n",
        "\n",
        "bcm_right_passive = DirichletBC(V, m_in_neg, dbc_right_passive)\n",
        "bcm_right_active = DirichletBC(V, m_in, dbc_right_active) #\n",
        "\n",
        "r_in = 1.0\n",
        "bcr_left = DirichletBC(R, r_in, dbc_left)\n",
        "# bcr_left_active = DirichletBC(R, r_in, dbc_left_active)\n",
        "# bcr_left_passive = DirichletBC(R, -1 * r_in, dbc_left_passive)\n",
        "\n",
        "bcr_right = DirichletBC(R, r_in, dbc_right)\n",
        "\n",
        "E_in = 2.5\n",
        "bcE_left = DirichletBC(Q, E_in, dbc_left)\n",
        "# bcE_left_active = DirichletBC(Q, E_in, dbc_left_active)\n",
        "# bcE_left_passive = DirichletBC(Q, -1 * E_in, dbc_left_passive)\n",
        "\n",
        "bcE_right = DirichletBC(Q, E_in, dbc_right)\n",
        "\n",
        "# bcm = [bcm_in, bcm_left, bcm_upp, bcm_low]\n",
        "bcm = [bcm_left_active, bcm_left_passive, bcm_upp, bcm_low, bcm_right_active, bcm_right_passive]\n",
        "bcr = [bcr_left, bcr_right]\n",
        "bcE = [bcE_left, bcE_right]\n",
        "#bcr = [bcr_in]\n",
        "#bcE = [bcE_in]"
      ],
      "execution_count": 5,
      "outputs": []
    },
    {
      "cell_type": "markdown",
      "metadata": {
        "id": "SsQLT38gVbn_"
      },
      "source": [
        "# **Results**"
      ]
    },
    {
      "cell_type": "markdown",
      "metadata": {
        "id": "qI4ZYb5E4w5p"
      },
      "source": [
        "**Define method parameters**"
      ]
    },
    {
      "cell_type": "code",
      "metadata": {
        "id": "6o3zdXWYuuFy"
      },
      "source": [
        "# Define iteration functions\n",
        "# *0 solution from previous time step\n",
        "# *1 linearized solution at present time step\n",
        "r0 = Function(R)\n",
        "m0 = Function(V)\n",
        "E0 = Function(Q)\n",
        "r1 = Function(R)\n",
        "m1 = Function(V)\n",
        "E1 = Function(Q)\n",
        "\n",
        "eps_cav = 1.0e-6\n",
        "\n",
        "# Set parameters for nonlinear and linear solvers\n",
        "num_nnlin_iter = 5\n",
        "prec = \"amg\" if has_krylov_solver_preconditioner(\"amg\") else \"default\"\n",
        "\n",
        "# Time step length\n",
        "dt = 0.5*mesh.hmin()*(r_in/m_in_vel)"
      ],
      "execution_count": 6,
      "outputs": []
    },
    {
      "cell_type": "markdown",
      "metadata": {
        "id": "y0EnzPyU46PX"
      },
      "source": [
        "**Define variational problem**"
      ]
    },
    {
      "cell_type": "code",
      "metadata": {
        "id": "W-bCOI6LuxFi"
      },
      "source": [
        "# Define variational problem\n",
        "\n",
        "# Mean velocities for trapozoidal time stepping\n",
        "rm = 0.5*(r + r0)\n",
        "mm = 0.5*(m + m0)\n",
        "Em = 0.5*(E + E0)\n",
        "\n",
        "rm1 = 0.5*(r1 + r0)\n",
        "mm1 = 0.5*(m1 + m0)\n",
        "Em1 = 0.5*(E1 + E0)\n",
        "\n",
        "u0 = m0/(r0 + eps_cav)\n",
        "u1 = m1/(r1 + eps_cav)\n",
        "um1 = 0.5*(u1 + u0)\n",
        "\n",
        "# Perfect gas\n",
        "# gamma = 1.4 # specific heat ratio for air\n",
        "p1 = (gamma - 1.0)*(E1 - 0.5*inner(m1,m1)/(r1 + eps_cav)) # pressure\n",
        "\n",
        "# Temperature\n",
        "Temp = E1/r1 - 0.5*inner(u1, u1)\n",
        "\n",
        "# Speed of sound\n",
        "c = sqrt(gamma*(gamma-1.0)*Temp)\n",
        "\n",
        "# Mach number\n",
        "Mach = sqrt(inner(u1, u1))/c\n",
        "\n",
        "# Facet normal\n",
        "normal = FacetNormal(mesh)\n",
        "\n",
        "# Local mesh size\n",
        "h = CellDiameter(mesh);\n",
        "\n",
        "# Stabilization parameters\n",
        "u_mag = sqrt(dot(u1,u1))\n",
        "C1 = 1.0\n",
        "d1 = C1/sqrt((pow(1.0/dt,2.0) + pow(u_mag/h,2.0)))\n",
        "\n",
        "# Penalty boundary conditions\n",
        "C_alpha = 1.0e2\n",
        "alpha = C_alpha/h\n",
        "\n",
        "# Residuals\n",
        "res_r = (r1 - r0)/dt + div(u1)*r1 + inner(grad(r1), u1)\n",
        "res_m = (m1 - m0)/dt + div(u1)*m1 + grad(m1)*u1 + grad(p1)\n",
        "res_E = (E1 - E0)/dt + div(u1)*E1 + inner(grad(E1), u1) + div(u1)*p1 + inner(grad(p1), u1)\n",
        "\n",
        "# Smagorinsky model (simplified)\n",
        "C_t = 1.0e-2\n",
        "\n",
        "C_stab = 1.0\n",
        "\n",
        "#nu_turb = h\n",
        "#nu_turb = C_t*h*h*sqrt(inner(grad(um1), grad(um1)))\n",
        "#nu_turb = C_stab*h*h*sqrt(res_r*res_r + inner(res_m, res_m) + res_E*res_E)\n",
        "\n",
        "nu_r = C_stab*h*h*sqrt(res_r*res_r)/r_in\n",
        "nu_m = C_stab*h*h*sqrt(inner(res_m, res_m))/m_in[0]\n",
        "nu_E = C_stab*h*h*sqrt(res_E*res_E)/E_in\n",
        "\n",
        "# Density variational equation on residual form\n",
        "Fr = inner((r - r0)/dt, d)*dx - inner(rm*um1, grad(d))*dx \\\n",
        "    + nu_r * inner(grad(rm), grad(d))*dx \\\n",
        "    + inner(dot(um1, normal)*r_in, d)*ds(1) \\\n",
        "    + inner(dot(um1, normal)*rm, d)*ds(2)\n",
        "    #+ d1*inner((r - r0)/dt + div(u1)*rm + inner(grad(rm), u1), dot(grad(d), u1))*dx \\\n",
        "\n",
        "ar = lhs(Fr)\n",
        "Lr = rhs(Fr)\n",
        "\n",
        "# Momentum variational equation on residual form\n",
        "Fm = inner((m - m0)/dt, v)*dx - inner(outer(mm,um1), grad(v))*dx - p1*div(v)*dx \\\n",
        "        + nu_m * inner(grad(mm), grad(v))*dx \\\n",
        "        + alpha*(inner(dot(mm,normal), dot(v,normal)))*ds(5) \\\n",
        "        + (dot(u1, normal)*inner(m_in, v))*ds(1) \\\n",
        "        + (dot(u1, normal)*inner(mm, v))*ds(2)\n",
        "        #+ d1*inner((m - m0)/dt + div(u1)*mm + grad(mm)*u1 + grad(p1), grad(v)*u1)*dx \\\n",
        "\n",
        "am = lhs(Fm)\n",
        "Lm = rhs(Fm)\n",
        "\n",
        "# Density variational equation on residual form\n",
        "FE = inner((E - E0)/dt, q)*dx - inner(Em*um1, grad(q))*dx \\\n",
        "    + nu_E * inner(grad(Em), grad(q))*dx \\\n",
        "    + inner(dot(um1, normal)*E_in, q)*ds(1) \\\n",
        "    + inner(dot(um1, normal)*Em, q)*ds(2)\n",
        "    #+ d1*inner((E - E0)/dt + div(u1)*Em + inner(grad(Em), u1) + div(u1)*p1 + inner(grad(p1), u1), dot(grad(q), u1))*dx \\\n",
        "\n",
        "aE = lhs(FE)\n",
        "LE = rhs(FE)"
      ],
      "execution_count": 7,
      "outputs": []
    },
    {
      "cell_type": "markdown",
      "metadata": {
        "id": "vFN4F231ZXKc"
      },
      "source": [
        "**Compute force on boundary**"
      ]
    },
    {
      "cell_type": "code",
      "metadata": {
        "id": "-2aWCr3YZccP"
      },
      "source": [
        "# Velocity\n",
        "u1 = m1/(r1 + eps_cav)\n",
        "\n",
        "# Perfect gas\n",
        "p1 = (gamma - 1.0)*(E1 - 0.5*inner(m1,m1)/(r1 + eps_cav)) # pressure"
      ],
      "execution_count": 8,
      "outputs": []
    },
    {
      "cell_type": "markdown",
      "metadata": {
        "id": "nl9EBgZU6tMZ"
      },
      "source": [
        "**Set plotting variables and open export files**"
      ]
    },
    {
      "cell_type": "code",
      "metadata": {
        "id": "Xpu2R7ZMu3bO"
      },
      "source": [
        "# Open files to export solution to Paraview\n",
        "file_r = File(\"results-NS/r.pvd\")\n",
        "file_m = File(\"results-NS/m.pvd\")\n",
        "file_E = File(\"results-NS/E.pvd\")\n",
        "file_Mach = File(\"results-NS/Mach.pvd\")\n",
        "\n",
        "# Set plot frequency\n",
        "plot_time = 0\n",
        "plot_freq = 20\n",
        "\n",
        "time = np.array(0.0)\n",
        "time = np.delete(time, 0)\n",
        "\n",
        "start_sample_time = 1.0"
      ],
      "execution_count": 9,
      "outputs": []
    },
    {
      "cell_type": "markdown",
      "metadata": {
        "id": "F_PajAPw6xdn"
      },
      "source": [
        "**Time stepping algorithm**"
      ]
    },
    {
      "cell_type": "code",
      "metadata": {
        "id": "JUfvsjZPvBc0",
        "colab": {
          "base_uri": "https://localhost:8080/",
          "height": 367
        },
        "outputId": "5f0c111c-d9af-42ef-d34a-4040a83cf0b4"
      },
      "source": [
        "!rm results-NS/*\n",
        "\n",
        "r0.interpolate(Expression(\"1.0\", degree=1))\n",
        "m0.interpolate(Expression((f\"{m_in_vel} * (abs(x[1] - 0.5) <= 0.15) - {m_in_vel} * (abs(x[1] - 0.5) > 0.15)\", \"0.0\"), degree=1))\n",
        "# m0.interpolate(Expression((f\"{m_in_vel} * (abs(x[1] - 0.5) <= 0.15)\", \"0.0\"), degree=1))\n",
        "E0.interpolate(Expression(\"2.5\", degree=1))\n",
        "\n",
        "# Plot solution\n",
        "plt.figure()\n",
        "im = plot(r0, title=\"Density\")\n",
        "plt.colorbar(im)\n",
        "\n",
        "plt.figure()\n",
        "im = plot(m0, title=\"Momentum\")\n",
        "plt.colorbar(im)\n",
        "\n",
        "plt.figure()\n",
        "im = plot(E0, title=\"Total energy\")\n",
        "plt.colorbar(im)\n",
        "\n",
        "# Time stepping\n",
        "T = 2\n",
        "t = dt\n",
        "while t < T + DOLFIN_EPS:\n",
        "\n",
        "    #s = 'Time t = ' + repr(t)\n",
        "    #print(s)\n",
        "\n",
        "    #pin.t = t\n",
        "    #uin.t = t\n",
        "\n",
        "    # Solve non-linear problem\n",
        "    k = 0\n",
        "    while k < num_nnlin_iter:\n",
        "\n",
        "        # Assemble density matrix and vector\n",
        "        Ar = assemble(ar)\n",
        "        br = assemble(Lr)\n",
        "\n",
        "        # Compute density solution\n",
        "        [bc.apply(Ar, br) for bc in bcr]\n",
        "        [bc.apply(r1.vector()) for bc in bcr]\n",
        "        solve(Ar, r1.vector(), br, \"bicgstab\", \"default\")\n",
        "\n",
        "        # Assemble momentum matrix and vector\n",
        "        Am = assemble(am)\n",
        "        bm = assemble(Lm)\n",
        "\n",
        "        # Compute momentum solution\n",
        "        [bc.apply(Am, bm) for bc in bcm]\n",
        "        [bc.apply(m1.vector()) for bc in bcm]\n",
        "        solve(Am, m1.vector(), bm, \"bicgstab\", \"default\")\n",
        "\n",
        "        # Slip boundary condition\n",
        "        #bcm_slip_0 = m1[0] - dot(m1, node_normal)*node_normal[0]\n",
        "        #bcm_slip_1 = m1[1] - dot(m1, node_normal)*node_normal[1]\n",
        "        #[bc.apply(m1.vector()) for bc in bcm_slip]\n",
        "\n",
        "        # Assemble total energy matrix and vector\n",
        "        AE = assemble(aE)\n",
        "        bE = assemble(LE)\n",
        "\n",
        "        # Compute total energy solution\n",
        "        [bc.apply(AE, bE) for bc in bcE]\n",
        "        [bc.apply(E1.vector()) for bc in bcE]\n",
        "        solve(AE, E1.vector(), bE, \"bicgstab\", \"default\")\n",
        "\n",
        "        k += 1\n",
        "\n",
        "    if t > plot_time or t + dt > T + DOLFIN_EPS:\n",
        "\n",
        "        s = 'Time t = ' + repr(t)\n",
        "        print(s)\n",
        "\n",
        "        u1 = m1 / (r1 + eps_cav)\n",
        "        Temp = E1/(r1 + eps_cav) - 0.5*inner(u1, u1)\n",
        "        c = sqrt(gamma*(gamma-1.0)*abs(Temp))\n",
        "        Mach_number = project(sqrt(inner(u1, u1))/(c + eps_cav), Q)\n",
        "\n",
        "        # Save solution to file\n",
        "        file_r << r1\n",
        "        file_m << m1\n",
        "        file_E << E1\n",
        "        file_Mach << Mach_number\n",
        "\n",
        "        # Plot solution\n",
        "        plt.figure()\n",
        "        im = plot(r1, title=\"Density\")\n",
        "        plt.colorbar(im)\n",
        "\n",
        "        plt.figure()\n",
        "        im = plot(m1, title=\"Momentum\")\n",
        "        plt.colorbar(im)\n",
        "\n",
        "        plt.figure()\n",
        "        im = plot(E1, title=\"Total energy\")\n",
        "        plt.colorbar(im)\n",
        "\n",
        "        plt.figure()\n",
        "        im = plot(u1, title=\"Velocity\")\n",
        "        plt.colorbar(im)\n",
        "\n",
        "        plt.figure()\n",
        "        im = plot(sqrt(inner(u1, u1)), title=\"Velocity magnitude\")\n",
        "        plt.colorbar(im)\n",
        "\n",
        "        plt.figure()\n",
        "        im = plot(Mach_number, title=\"Mach number\")\n",
        "        plt.colorbar(im)\n",
        "\n",
        "        plt.figure()\n",
        "        im = plot(Temp, title=\"Temperature\")\n",
        "        plt.colorbar(im)\n",
        "        plt.show()\n",
        "\n",
        "        plot_time += T/plot_freq\n",
        "\n",
        "\n",
        "\n",
        "    # Update time step\n",
        "    r0.assign(r1)\n",
        "    m0.assign(m1)\n",
        "    E0.assign(E1)\n",
        "    t += dt\n",
        "\n",
        "!tar -czvf results-NS.tar.gz results-NS\n",
        "# files.download('results-NS.tar.gz')"
      ],
      "execution_count": 10,
      "outputs": [
        {
          "output_type": "stream",
          "name": "stdout",
          "text": [
            "rm: cannot remove 'results-NS/*': No such file or directory\n"
          ]
        },
        {
          "output_type": "error",
          "ename": "KeyboardInterrupt",
          "evalue": "",
          "traceback": [
            "\u001b[0;31m---------------------------------------------------------------------------\u001b[0m",
            "\u001b[0;31mKeyboardInterrupt\u001b[0m                         Traceback (most recent call last)",
            "\u001b[0;32m<ipython-input-10-8f97602617db>\u001b[0m in \u001b[0;36m<cell line: 0>\u001b[0;34m()\u001b[0m\n\u001b[1;32m      2\u001b[0m \u001b[0;34m\u001b[0m\u001b[0m\n\u001b[1;32m      3\u001b[0m \u001b[0mr0\u001b[0m\u001b[0;34m.\u001b[0m\u001b[0minterpolate\u001b[0m\u001b[0;34m(\u001b[0m\u001b[0mExpression\u001b[0m\u001b[0;34m(\u001b[0m\u001b[0;34m\"1.0\"\u001b[0m\u001b[0;34m,\u001b[0m \u001b[0mdegree\u001b[0m\u001b[0;34m=\u001b[0m\u001b[0;36m1\u001b[0m\u001b[0;34m)\u001b[0m\u001b[0;34m)\u001b[0m\u001b[0;34m\u001b[0m\u001b[0;34m\u001b[0m\u001b[0m\n\u001b[0;32m----> 4\u001b[0;31m \u001b[0mm0\u001b[0m\u001b[0;34m.\u001b[0m\u001b[0minterpolate\u001b[0m\u001b[0;34m(\u001b[0m\u001b[0mExpression\u001b[0m\u001b[0;34m(\u001b[0m\u001b[0;34m(\u001b[0m\u001b[0;34mf\"{m_in_vel} * (abs(x[1] - 0.5) <= 0.15) - {m_in_vel} * (abs(x[1] - 0.5) > 0.15)\"\u001b[0m\u001b[0;34m,\u001b[0m \u001b[0;34m\"0.0\"\u001b[0m\u001b[0;34m)\u001b[0m\u001b[0;34m,\u001b[0m \u001b[0mdegree\u001b[0m\u001b[0;34m=\u001b[0m\u001b[0;36m1\u001b[0m\u001b[0;34m)\u001b[0m\u001b[0;34m)\u001b[0m\u001b[0;34m\u001b[0m\u001b[0;34m\u001b[0m\u001b[0m\n\u001b[0m\u001b[1;32m      5\u001b[0m \u001b[0;31m# m0.interpolate(Expression((f\"{m_in_vel} * (abs(x[1] - 0.5) <= 0.15)\", \"0.0\"), degree=1))\u001b[0m\u001b[0;34m\u001b[0m\u001b[0;34m\u001b[0m\u001b[0m\n\u001b[1;32m      6\u001b[0m \u001b[0mE0\u001b[0m\u001b[0;34m.\u001b[0m\u001b[0minterpolate\u001b[0m\u001b[0;34m(\u001b[0m\u001b[0mExpression\u001b[0m\u001b[0;34m(\u001b[0m\u001b[0;34m\"2.5\"\u001b[0m\u001b[0;34m,\u001b[0m \u001b[0mdegree\u001b[0m\u001b[0;34m=\u001b[0m\u001b[0;36m1\u001b[0m\u001b[0;34m)\u001b[0m\u001b[0;34m)\u001b[0m\u001b[0;34m\u001b[0m\u001b[0;34m\u001b[0m\u001b[0m\n",
            "\u001b[0;32m/usr/local/lib/python3.11/dist-packages/dolfin/function/expression.py\u001b[0m in \u001b[0;36m__init__\u001b[0;34m(self, cpp_code, *args, **kwargs)\u001b[0m\n\u001b[1;32m    398\u001b[0m                     \u001b[0;32mraise\u001b[0m \u001b[0mKeyError\u001b[0m\u001b[0;34m(\u001b[0m\u001b[0;34m\"User parameter key must be a string\"\u001b[0m\u001b[0;34m)\u001b[0m\u001b[0;34m\u001b[0m\u001b[0;34m\u001b[0m\u001b[0m\n\u001b[1;32m    399\u001b[0m \u001b[0;34m\u001b[0m\u001b[0m\n\u001b[0;32m--> 400\u001b[0;31m             \u001b[0mself\u001b[0m\u001b[0;34m.\u001b[0m\u001b[0m_cpp_object\u001b[0m \u001b[0;34m=\u001b[0m \u001b[0mjit\u001b[0m\u001b[0;34m.\u001b[0m\u001b[0mcompile_expression\u001b[0m\u001b[0;34m(\u001b[0m\u001b[0mcpp_code\u001b[0m\u001b[0;34m,\u001b[0m \u001b[0mparams\u001b[0m\u001b[0;34m)\u001b[0m\u001b[0;34m\u001b[0m\u001b[0;34m\u001b[0m\u001b[0m\n\u001b[0m\u001b[1;32m    401\u001b[0m             \u001b[0mself\u001b[0m\u001b[0;34m.\u001b[0m\u001b[0m_parameters\u001b[0m \u001b[0;34m=\u001b[0m \u001b[0mExpressionParameters\u001b[0m\u001b[0;34m(\u001b[0m\u001b[0mself\u001b[0m\u001b[0;34m.\u001b[0m\u001b[0m_cpp_object\u001b[0m\u001b[0;34m,\u001b[0m \u001b[0mparams\u001b[0m\u001b[0;34m)\u001b[0m\u001b[0;34m\u001b[0m\u001b[0;34m\u001b[0m\u001b[0m\n\u001b[1;32m    402\u001b[0m \u001b[0;34m\u001b[0m\u001b[0m\n",
            "\u001b[0;32m/usr/local/lib/python3.11/dist-packages/dolfin/function/jit.py\u001b[0m in \u001b[0;36mcompile_expression\u001b[0;34m(statements, properties)\u001b[0m\n\u001b[1;32m    156\u001b[0m                 'name': 'expression', 'jit_generate': jit_generate}\n\u001b[1;32m    157\u001b[0m \u001b[0;34m\u001b[0m\u001b[0m\n\u001b[0;32m--> 158\u001b[0;31m     \u001b[0mexpression\u001b[0m \u001b[0;34m=\u001b[0m \u001b[0mcompile_class\u001b[0m\u001b[0;34m(\u001b[0m\u001b[0mcpp_data\u001b[0m\u001b[0;34m,\u001b[0m \u001b[0mmpi_comm\u001b[0m\u001b[0;34m=\u001b[0m\u001b[0mmpi_comm\u001b[0m\u001b[0;34m)\u001b[0m\u001b[0;34m\u001b[0m\u001b[0;34m\u001b[0m\u001b[0m\n\u001b[0m\u001b[1;32m    159\u001b[0m     \u001b[0;32mreturn\u001b[0m \u001b[0mexpression\u001b[0m\u001b[0;34m\u001b[0m\u001b[0;34m\u001b[0m\u001b[0m\n",
            "\u001b[0;32m/usr/local/lib/python3.11/dist-packages/dolfin/jit/jit.py\u001b[0m in \u001b[0;36mcompile_class\u001b[0;34m(cpp_data, mpi_comm)\u001b[0m\n\u001b[1;32m    165\u001b[0m \u001b[0;34m\u001b[0m\u001b[0m\n\u001b[1;32m    166\u001b[0m     \u001b[0;32mtry\u001b[0m\u001b[0;34m:\u001b[0m\u001b[0;34m\u001b[0m\u001b[0;34m\u001b[0m\u001b[0m\n\u001b[0;32m--> 167\u001b[0;31m         module, signature = dijitso_jit(cpp_data, module_name, params,\n\u001b[0m\u001b[1;32m    168\u001b[0m                                         \u001b[0mgenerate\u001b[0m\u001b[0;34m=\u001b[0m\u001b[0mcpp_data\u001b[0m\u001b[0;34m[\u001b[0m\u001b[0;34m'jit_generate'\u001b[0m\u001b[0;34m]\u001b[0m\u001b[0;34m,\u001b[0m\u001b[0;34m\u001b[0m\u001b[0;34m\u001b[0m\u001b[0m\n\u001b[1;32m    169\u001b[0m                                         mpi_comm=mpi_comm)\n",
            "\u001b[0;32m/usr/local/lib/python3.11/dist-packages/dolfin/jit/jit.py\u001b[0m in \u001b[0;36mmpi_jit\u001b[0;34m(*args, **kwargs)\u001b[0m\n\u001b[1;32m     47\u001b[0m         \u001b[0;31m# Just call JIT compiler when running in serial\u001b[0m\u001b[0;34m\u001b[0m\u001b[0;34m\u001b[0m\u001b[0m\n\u001b[1;32m     48\u001b[0m         \u001b[0;32mif\u001b[0m \u001b[0mMPI\u001b[0m\u001b[0;34m.\u001b[0m\u001b[0msize\u001b[0m\u001b[0;34m(\u001b[0m\u001b[0mmpi_comm\u001b[0m\u001b[0;34m)\u001b[0m \u001b[0;34m==\u001b[0m \u001b[0;36m1\u001b[0m\u001b[0;34m:\u001b[0m\u001b[0;34m\u001b[0m\u001b[0;34m\u001b[0m\u001b[0m\n\u001b[0;32m---> 49\u001b[0;31m             \u001b[0;32mreturn\u001b[0m \u001b[0mlocal_jit\u001b[0m\u001b[0;34m(\u001b[0m\u001b[0;34m*\u001b[0m\u001b[0margs\u001b[0m\u001b[0;34m,\u001b[0m \u001b[0;34m**\u001b[0m\u001b[0mkwargs\u001b[0m\u001b[0;34m)\u001b[0m\u001b[0;34m\u001b[0m\u001b[0;34m\u001b[0m\u001b[0m\n\u001b[0m\u001b[1;32m     50\u001b[0m \u001b[0;34m\u001b[0m\u001b[0m\n\u001b[1;32m     51\u001b[0m         \u001b[0;31m# Default status (0 == ok, 1 == fail)\u001b[0m\u001b[0;34m\u001b[0m\u001b[0;34m\u001b[0m\u001b[0m\n",
            "\u001b[0;32m/usr/local/lib/python3.11/dist-packages/dolfin/jit/jit.py\u001b[0m in \u001b[0;36mdijitso_jit\u001b[0;34m(*args, **kwargs)\u001b[0m\n\u001b[1;32m    103\u001b[0m \u001b[0;34m@\u001b[0m\u001b[0mmpi_jit_decorator\u001b[0m\u001b[0;34m\u001b[0m\u001b[0;34m\u001b[0m\u001b[0m\n\u001b[1;32m    104\u001b[0m \u001b[0;32mdef\u001b[0m \u001b[0mdijitso_jit\u001b[0m\u001b[0;34m(\u001b[0m\u001b[0;34m*\u001b[0m\u001b[0margs\u001b[0m\u001b[0;34m,\u001b[0m \u001b[0;34m**\u001b[0m\u001b[0mkwargs\u001b[0m\u001b[0;34m)\u001b[0m\u001b[0;34m:\u001b[0m\u001b[0;34m\u001b[0m\u001b[0;34m\u001b[0m\u001b[0m\n\u001b[0;32m--> 105\u001b[0;31m     \u001b[0;32mreturn\u001b[0m \u001b[0mdijitso\u001b[0m\u001b[0;34m.\u001b[0m\u001b[0mjit\u001b[0m\u001b[0;34m(\u001b[0m\u001b[0;34m*\u001b[0m\u001b[0margs\u001b[0m\u001b[0;34m,\u001b[0m \u001b[0;34m**\u001b[0m\u001b[0mkwargs\u001b[0m\u001b[0;34m)\u001b[0m\u001b[0;34m\u001b[0m\u001b[0;34m\u001b[0m\u001b[0m\n\u001b[0m\u001b[1;32m    106\u001b[0m \u001b[0;34m\u001b[0m\u001b[0m\n\u001b[1;32m    107\u001b[0m \u001b[0;34m\u001b[0m\u001b[0m\n",
            "\u001b[0;32m/usr/local/lib/python3.11/dist-packages/dijitso/jit.py\u001b[0m in \u001b[0;36mjit\u001b[0;34m(jitable, name, params, generate, send, receive, wait)\u001b[0m\n\u001b[1;32m    175\u001b[0m             \u001b[0;31m# other processes if any.\u001b[0m\u001b[0;34m\u001b[0m\u001b[0;34m\u001b[0m\u001b[0m\n\u001b[1;32m    176\u001b[0m             \u001b[0mstatus\u001b[0m\u001b[0;34m,\u001b[0m \u001b[0moutput\u001b[0m\u001b[0;34m,\u001b[0m \u001b[0mlib_filename\u001b[0m\u001b[0;34m,\u001b[0m \u001b[0merr_info\u001b[0m \u001b[0;34m=\u001b[0m\u001b[0;31m \u001b[0m\u001b[0;31m\\\u001b[0m\u001b[0;34m\u001b[0m\u001b[0;34m\u001b[0m\u001b[0m\n\u001b[0;32m--> 177\u001b[0;31m                 build_shared_library(signature, header, source, dependencies,\n\u001b[0m\u001b[1;32m    178\u001b[0m                                      params)\n\u001b[1;32m    179\u001b[0m \u001b[0;34m\u001b[0m\u001b[0m\n",
            "\u001b[0;32m/usr/local/lib/python3.11/dist-packages/dijitso/build.py\u001b[0m in \u001b[0;36mbuild_shared_library\u001b[0;34m(signature, header, source, dependencies, params)\u001b[0m\n\u001b[1;32m    151\u001b[0m     \u001b[0;31m# Execute command to compile generated source code to dynamic\u001b[0m\u001b[0;34m\u001b[0m\u001b[0;34m\u001b[0m\u001b[0m\n\u001b[1;32m    152\u001b[0m     \u001b[0;31m# library\u001b[0m\u001b[0;34m\u001b[0m\u001b[0;34m\u001b[0m\u001b[0m\n\u001b[0;32m--> 153\u001b[0;31m     \u001b[0mstatus\u001b[0m\u001b[0;34m,\u001b[0m \u001b[0moutput\u001b[0m \u001b[0;34m=\u001b[0m \u001b[0mget_status_output\u001b[0m\u001b[0;34m(\u001b[0m\u001b[0mcmd\u001b[0m\u001b[0;34m)\u001b[0m\u001b[0;34m\u001b[0m\u001b[0;34m\u001b[0m\u001b[0m\n\u001b[0m\u001b[1;32m    154\u001b[0m \u001b[0;34m\u001b[0m\u001b[0m\n\u001b[1;32m    155\u001b[0m     \u001b[0;31m# Move files to cache on success or a local dir on failure,\u001b[0m\u001b[0;34m\u001b[0m\u001b[0;34m\u001b[0m\u001b[0m\n",
            "\u001b[0;32m/usr/local/lib/python3.11/dist-packages/dijitso/system.py\u001b[0m in \u001b[0;36m_get_status_output_subprocess\u001b[0;34m(cmd, input, cwd, env)\u001b[0m\n\u001b[1;32m     40\u001b[0m     pipe = subprocess.Popen(cmd, shell=False, cwd=cwd, env=env,\n\u001b[1;32m     41\u001b[0m                             stdout=subprocess.PIPE, stderr=subprocess.STDOUT)\n\u001b[0;32m---> 42\u001b[0;31m     \u001b[0;34m(\u001b[0m\u001b[0moutput\u001b[0m\u001b[0;34m,\u001b[0m \u001b[0merrout\u001b[0m\u001b[0;34m)\u001b[0m \u001b[0;34m=\u001b[0m \u001b[0mpipe\u001b[0m\u001b[0;34m.\u001b[0m\u001b[0mcommunicate\u001b[0m\u001b[0;34m(\u001b[0m\u001b[0minput\u001b[0m\u001b[0;34m=\u001b[0m\u001b[0minput\u001b[0m\u001b[0;34m)\u001b[0m\u001b[0;34m\u001b[0m\u001b[0;34m\u001b[0m\u001b[0m\n\u001b[0m\u001b[1;32m     43\u001b[0m     \u001b[0;32massert\u001b[0m \u001b[0;32mnot\u001b[0m \u001b[0merrout\u001b[0m\u001b[0;34m\u001b[0m\u001b[0;34m\u001b[0m\u001b[0m\n\u001b[1;32m     44\u001b[0m     \u001b[0mstatus\u001b[0m \u001b[0;34m=\u001b[0m \u001b[0mpipe\u001b[0m\u001b[0;34m.\u001b[0m\u001b[0mreturncode\u001b[0m\u001b[0;34m\u001b[0m\u001b[0;34m\u001b[0m\u001b[0m\n",
            "\u001b[0;32m/usr/lib/python3.11/subprocess.py\u001b[0m in \u001b[0;36mcommunicate\u001b[0;34m(self, input, timeout)\u001b[0m\n\u001b[1;32m   1194\u001b[0m                 \u001b[0mself\u001b[0m\u001b[0;34m.\u001b[0m\u001b[0m_stdin_write\u001b[0m\u001b[0;34m(\u001b[0m\u001b[0minput\u001b[0m\u001b[0;34m)\u001b[0m\u001b[0;34m\u001b[0m\u001b[0;34m\u001b[0m\u001b[0m\n\u001b[1;32m   1195\u001b[0m             \u001b[0;32melif\u001b[0m \u001b[0mself\u001b[0m\u001b[0;34m.\u001b[0m\u001b[0mstdout\u001b[0m\u001b[0;34m:\u001b[0m\u001b[0;34m\u001b[0m\u001b[0;34m\u001b[0m\u001b[0m\n\u001b[0;32m-> 1196\u001b[0;31m                 \u001b[0mstdout\u001b[0m \u001b[0;34m=\u001b[0m \u001b[0mself\u001b[0m\u001b[0;34m.\u001b[0m\u001b[0mstdout\u001b[0m\u001b[0;34m.\u001b[0m\u001b[0mread\u001b[0m\u001b[0;34m(\u001b[0m\u001b[0;34m)\u001b[0m\u001b[0;34m\u001b[0m\u001b[0;34m\u001b[0m\u001b[0m\n\u001b[0m\u001b[1;32m   1197\u001b[0m                 \u001b[0mself\u001b[0m\u001b[0;34m.\u001b[0m\u001b[0mstdout\u001b[0m\u001b[0;34m.\u001b[0m\u001b[0mclose\u001b[0m\u001b[0;34m(\u001b[0m\u001b[0;34m)\u001b[0m\u001b[0;34m\u001b[0m\u001b[0;34m\u001b[0m\u001b[0m\n\u001b[1;32m   1198\u001b[0m             \u001b[0;32melif\u001b[0m \u001b[0mself\u001b[0m\u001b[0;34m.\u001b[0m\u001b[0mstderr\u001b[0m\u001b[0;34m:\u001b[0m\u001b[0;34m\u001b[0m\u001b[0;34m\u001b[0m\u001b[0m\n",
            "\u001b[0;31mKeyboardInterrupt\u001b[0m: "
          ]
        }
      ]
    },
    {
      "cell_type": "markdown",
      "metadata": {
        "id": "_4GLBv0zWr7m"
      },
      "source": [
        "# **Discussion**"
      ]
    },
    {
      "cell_type": "markdown",
      "metadata": {
        "id": "6bcsDSoRXHZe"
      },
      "source": [
        "A stabilized finite element method was implemented in FEniCS to solve the Euler equations for compressible flow in 2D."
      ]
    }
  ]
}