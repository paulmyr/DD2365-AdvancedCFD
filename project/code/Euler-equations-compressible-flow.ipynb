{
  "nbformat": 4,
  "nbformat_minor": 0,
  "metadata": {
    "colab": {
      "name": "template-report-Navier-Stokes.ipynb",
      "provenance": [],
      "include_colab_link": true
    },
    "kernelspec": {
      "name": "python3",
      "display_name": "Python 3"
    }
  },
  "cells": [
    {
      "cell_type": "markdown",
      "metadata": {
        "id": "view-in-github",
        "colab_type": "text"
      },
      "source": [
        "<a href=\"https://colab.research.google.com/github/paulmyr/DD2365-AdvancedCFD/blob/master/project/code/Euler-equations-compressible-flow.ipynb\" target=\"_parent\"><img src=\"https://colab.research.google.com/assets/colab-badge.svg\" alt=\"Open In Colab\"/></a>"
      ]
    },
    {
      "cell_type": "markdown",
      "metadata": {
        "id": "cyCUwzF-wRoW"
      },
      "source": [
        "# **The Euler equations for compressible flow**\n",
        "**Johan Hoffman**"
      ]
    },
    {
      "cell_type": "markdown",
      "metadata": {
        "id": "9x_J5FVuPzbm"
      },
      "source": [
        "# **Abstract**"
      ]
    },
    {
      "cell_type": "markdown",
      "metadata": {
        "id": "6UFTSzW7P8kL"
      },
      "source": [
        "This short report show an example on how to use FEniCS to solve the Euler equations using FEM, which is used in the course DD2365 Advanced Computation in Fluid Mechanics, at the KTH Royal Institute of Technology.\n",
        "\n",
        "[DD2365 course website.](https://www.kth.se/social/course/DD2365/)"
      ]
    },
    {
      "cell_type": "markdown",
      "metadata": {
        "id": "OkT8J7uOWpT3"
      },
      "source": [
        "# **About the code**"
      ]
    },
    {
      "cell_type": "code",
      "metadata": {
        "id": "Pdll1Xc9WP0e"
      },
      "source": [
        "# This program is an example file for the course\n",
        "# DD2365 Advanced Computation in Fluid Mechanics,\n",
        "# KTH Royal Institute of Technology, Stockholm, Sweden,\n",
        "\n",
        "# Copyright (C) 2021 Johan Hoffman (jhoffman@kth.se)\n",
        "\n",
        "# This file is part of the course DD2365 Advanced Computation in Fluid Mechanics\n",
        "# KTH Royal Institute of Technology, Stockholm, Sweden\n",
        "#\n",
        "# This is free software: you can redistribute it and/or modify\n",
        "# it under the terms of the GNU Lesser General Public License v2.\n",
        "\n",
        "# This template is maintained by Johan Hoffman\n",
        "# Please report problems to jhoffman@kth.se"
      ],
      "execution_count": 1,
      "outputs": []
    },
    {
      "cell_type": "markdown",
      "metadata": {
        "id": "28xLGz8JX3Hh"
      },
      "source": [
        "# **Set up environment**"
      ]
    },
    {
      "cell_type": "code",
      "metadata": {
        "id": "Xw7VlErAX7NS"
      },
      "source": [
        "# Load neccessary modules.\n",
        "from google.colab import files\n",
        "\n",
        "import numpy as np\n",
        "import time\n",
        "\n",
        "# Install FEniCS (this may take a long time)\n",
        "try:\n",
        "    import dolfin\n",
        "except ImportError:\n",
        "    !wget \"https://fem-on-colab.github.io/releases/fenics-install-release-real.sh\" -O \"/tmp/fenics-install.sh\" && bash \"/tmp/fenics-install.sh\"\n",
        "    import dolfin\n",
        "\n",
        "from dolfin import *; from mshr import *\n",
        "\n",
        "import dolfin.common.plotting as fenicsplot\n",
        "\n",
        "from matplotlib import pyplot as plt"
      ],
      "execution_count": 2,
      "outputs": []
    },
    {
      "cell_type": "markdown",
      "metadata": {
        "id": "gnO3lhAigLev"
      },
      "source": [
        "# **Introduction**"
      ]
    },
    {
      "cell_type": "markdown",
      "metadata": {
        "id": "l5zMzgPlRAF6"
      },
      "source": [
        "The Euler equations take the form\n",
        "\n",
        "$\n",
        "\\begin{eqnarray}\n",
        "\\dot \\rho + \\nabla \\cdot (u \\rho) = 0, \\\\\n",
        "\\dot m + \\nabla \\cdot (u m) + \\nabla p = f, \\\\\n",
        "\\dot E + \\nabla \\cdot (u E) + \\nabla \\cdot(up)= 0,\n",
        "\\end{eqnarray}\n",
        "$\n",
        "\n",
        "together with suitable initial and boundary conditions.\n",
        "\n",
        "Here velocity is given by\n",
        "\n",
        "$u = \\frac{m}{\\rho},$\n",
        "\n",
        "and for a perfect gas, the pressure is given by\n",
        "\n",
        "$p = (\\gamma - 1)(E-\\frac{\\vert u\\vert^2}{2}),$\n",
        "\n",
        "where $\\gamma = 1.4$ is the specific heat ratio for air, and we get the temperature,\n",
        "\n",
        "$T = \\frac{E}{\\rho} - \\frac{\\vert u\\vert^2}{2},$\n",
        "\n",
        "the speed of sound,\n",
        "\n",
        "$\\sqrt{\\gamma(\\gamma-1)T},$\n",
        "\n",
        "and the Mach number,\n",
        "\n",
        "$M = \\frac{\\vert u\\vert }{c}.$\n",
        "\n",
        "Here we present a FEniCS implementation of a stabilized finite element method to solve the Euler equations in 2D. The solution is visualized using FEniCS plotting functions, and is also exported as pvd-files which can be visualized in Paraview."
      ]
    },
    {
      "cell_type": "markdown",
      "metadata": {
        "id": "jOQvukXZq5U5"
      },
      "source": [
        "# **Method**"
      ]
    },
    {
      "cell_type": "markdown",
      "metadata": {
        "id": "wu2fugJ32t8m"
      },
      "source": [
        "**Define domain and mesh**"
      ]
    },
    {
      "cell_type": "code",
      "metadata": {
        "id": "_KBWOVATuBQz",
        "colab": {
          "base_uri": "https://localhost:8080/",
          "height": 430
        },
        "outputId": "b6c688ff-c3ff-46b4-f32d-fedfec538ff6"
      },
      "source": [
        "# Define rectangular domain\n",
        "L = 1.0\n",
        "H = 1.0\n",
        "\n",
        "# Define circle\n",
        "# xc = 0.8\n",
        "# yc = 0.5*H\n",
        "# rc = 0.2\n",
        "\n",
        "# Specific heat ratio for air\n",
        "gamma = 1.4\n",
        "\n",
        "# Generate mesh (examples with and without a hole in the mesh)\n",
        "resolution = 32\n",
        "mesh = RectangleMesh(Point(0.0, 0.0), Point(L, H), int(L*resolution), int(H*resolution))\n",
        "#mesh = generate_mesh(Rectangle(Point(0.0,0.0), Point(L,H)) - Circle(Point(xc,yc),rc), resolution)\n",
        "\n",
        "# Local mesh refinement (specified by a cell marker)\n",
        "no_levels = 0\n",
        "for i in range(0,no_levels):\n",
        "  cell_marker = MeshFunction(\"bool\", mesh, mesh.topology().dim())\n",
        "  for cell in cells(mesh):\n",
        "    cell_marker[cell] = False\n",
        "    p = cell.midpoint()\n",
        "    if p.distance(Point(xc, yc)) < 1.0:\n",
        "        cell_marker[cell] = True\n",
        "  mesh = refine(mesh, cell_marker)\n",
        "\n",
        "# Define subdomains (for boundary conditions)\n",
        "class Left(SubDomain):\n",
        "    def inside(self, x, on_boundary):\n",
        "        return near(x[0], 0.0)\n",
        "\n",
        "class Right(SubDomain):\n",
        "    def inside(self, x, on_boundary):\n",
        "        return near(x[0], L)\n",
        "\n",
        "class Lower(SubDomain):\n",
        "    def inside(self, x, on_boundary):\n",
        "        return near(x[1], 0.0)\n",
        "\n",
        "class Upper(SubDomain):\n",
        "    def inside(self, x, on_boundary):\n",
        "        return near(x[1], H)\n",
        "\n",
        "class Object(SubDomain):\n",
        "    def inside(self, x, on_boundary, L=L, H=H):\n",
        "        return on_boundary and (not near(x[0], 0.0)) and (not near(x[0], L)) and (not near(x[1], 0.0)) and (not near(x[1], H))\n",
        "\n",
        "left = Left()\n",
        "right = Right()\n",
        "lower = Lower()\n",
        "upper = Upper()\n",
        "object = Object()\n",
        "\n",
        "# Define mesh functions (for boundary conditions)\n",
        "boundaries = MeshFunction(\"size_t\", mesh, mesh.topology().dim()-1)\n",
        "boundaries.set_all(0)\n",
        "left.mark(boundaries, 1)\n",
        "right.mark(boundaries, 2)\n",
        "lower.mark(boundaries, 3)\n",
        "upper.mark(boundaries, 4)\n",
        "object.mark(boundaries, 5)\n",
        "\n",
        "# Define measure for boundary integration\n",
        "ds = Measure('ds', domain=mesh, subdomain_data=boundaries)\n",
        "\n",
        "plt.figure()\n",
        "plot(mesh)\n",
        "plt.show()"
      ],
      "execution_count": 3,
      "outputs": [
        {
          "output_type": "display_data",
          "data": {
            "text/plain": [
              "<Figure size 640x480 with 1 Axes>"
            ],
            "image/png": "[encoded data removed]"
          },
          "metadata": {}
        }
      ]
    },
    {
      "cell_type": "markdown",
      "metadata": {
        "id": "-le1iA8u3fS-"
      },
      "source": [
        "**Define finite element approximation spaces**"
      ]
    },
    {
      "cell_type": "code",
      "metadata": {
        "id": "uWeyBcYXuaPq"
      },
      "source": [
        "# Generate finite element spaces (for density, momentum, total energy)\n",
        "R = FunctionSpace(mesh, \"Lagrange\", 1)\n",
        "V = VectorFunctionSpace(mesh, \"Lagrange\", 1)\n",
        "Q = FunctionSpace(mesh, \"Lagrange\", 1)\n",
        "\n",
        "# Define trial and test functions\n",
        "r = TrialFunction(R)\n",
        "m = TrialFunction(V)\n",
        "E = TrialFunction(Q)\n",
        "d = TestFunction(R)\n",
        "v = TestFunction(V)\n",
        "q = TestFunction(Q)"
      ],
      "execution_count": 4,
      "outputs": []
    },
    {
      "cell_type": "markdown",
      "metadata": {
        "id": "OKzE7v-B3o9R"
      },
      "source": [
        "**Define boundary conditions**"
      ]
    },
    {
      "cell_type": "code",
      "metadata": {
        "id": "WAsDDvdKujQT"
      },
      "source": [
        "# Define boundary conditions\n",
        "class DirichletBoundaryLower(SubDomain):\n",
        "    def inside(self, x, on_boundary):\n",
        "        return on_boundary and near(x[1], 0.0)\n",
        "\n",
        "class DirichletBoundaryUpper(SubDomain):\n",
        "    def inside(self, x, on_boundary, H=H):\n",
        "        return on_boundary and near(x[1], H)\n",
        "\n",
        "class DirichletBoundaryLeft(SubDomain):\n",
        "    def inside(self, x, on_boundary):\n",
        "        return on_boundary and near(x[0], 0.0)\n",
        "\n",
        "class DirichletBoundaryRight(SubDomain):\n",
        "    def inside(self, x, on_boundary, L=L):\n",
        "        return on_boundary and near(x[0], L)\n",
        "\n",
        "class DirichletBoundaryObjects(SubDomain):\n",
        "    def inside(self, x, on_boundary, L=L, H=H):\n",
        "        return on_boundary and (not near(x[0], 0.0)) and (not near(x[0], L)) and (not near(x[1], 0.0)) and (not near(x[1], H))\n",
        "\n",
        "dbc_lower = DirichletBoundaryLower()\n",
        "dbc_upper = DirichletBoundaryUpper()\n",
        "dbc_left = DirichletBoundaryLeft()\n",
        "dbc_right = DirichletBoundaryRight()\n",
        "dbc_objects = DirichletBoundaryObjects()\n",
        "\n",
        "\n",
        "# m_in = Expression('4.0*(abs(x[1] - 0.5))', element = V.sub(0).ufl_element())\n",
        "m_in = Expression('4.0', element = V.sub(0).ufl_element())\n",
        "# m_in = 4.0\n",
        "\n",
        "m_in_vec = as_vector([m_in, 0.0])\n",
        "\n",
        "\n",
        "bcm_in0 = DirichletBC(V.sub(0), m_in, dbc_left)\n",
        "bcm_in1 = DirichletBC(V.sub(1), 0.0, dbc_left)\n",
        "bcm_upp0 = DirichletBC(V.sub(0), 0.0, dbc_upper)\n",
        "bcm_upp1 = DirichletBC(V.sub(1), 0.0, dbc_upper)\n",
        "bcm_low0 = DirichletBC(V.sub(0), 0.0, dbc_lower)\n",
        "bcm_low1 = DirichletBC(V.sub(1), 0.0, dbc_lower)\n",
        "#bcm_obj0 = DirichletBC(V.sub(0), 0.0, dbc_objects)\n",
        "#bcm_obj1 = DirichletBC(V.sub(1), 0.0, dbc_objects)\n",
        "\n",
        "# Slip boundary condition\n",
        "#V_slip = FunctionSpace(mesh, \"CG\", 1)\n",
        "#bcm_slip_0 = Function(V_slip)\n",
        "#bcm_slip_1 = Function(V_slip)\n",
        "\n",
        "#bcm_obj0 = DirichletBC(V.sub(0), bcm_slip_0, dbc_objects)\n",
        "#bcm_obj1 = DirichletBC(V.sub(1), bcm_slip_1, dbc_objects)\n",
        "#bcm_slip = [bcm_obj0, bcm_obj1]\n",
        "\n",
        "r_in = 1.4\n",
        "bcr_in = DirichletBC(R, r_in, dbc_left)\n",
        "\n",
        "E_in = 8.94\n",
        "bcE_in = DirichletBC(Q, E_in, dbc_left)\n",
        "\n",
        "#bcm = [bcm_in0, bcm_in1, bcm_upp1, bcm_low1, bcm_obj0, bcm_obj1]\n",
        "bcm = [bcm_in0, bcm_in1, bcm_upp1, bcm_low1]\n",
        "bcr = [bcr_in]\n",
        "bcE = [bcE_in]\n",
        "\n",
        "# Approximate facet normal in a suitable space using projection\n",
        "#n = FacetNormal(mesh)\n",
        "#V_normal = VectorFunctionSpace(mesh, \"CG\", 1)\n",
        "#u_ = TrialFunction(V_normal)\n",
        "#v_ = TestFunction(V_normal)\n",
        "#a = inner(u_,v_)*ds\n",
        "#l = inner(n, v_)*ds\n",
        "#A = assemble(a, keep_diagonal=True)\n",
        "#L = assemble(l)\n",
        "\n",
        "#A.ident_zeros()\n",
        "#node_normal = Function(V_normal)\n",
        "\n",
        "#solve(A, node_normal.vector(), L)\n",
        "\n",
        "# Plot the normal field\n",
        "#import matplotlib.pyplot as plt\n",
        "#plt.figure()\n",
        "#plot(node_normal, title=\"Node-Based Normal Field\")\n",
        "#plt.show()"
      ],
      "execution_count": 5,
      "outputs": []
    },
    {
      "cell_type": "markdown",
      "metadata": {
        "id": "SsQLT38gVbn_"
      },
      "source": [
        "# **Results**"
      ]
    },
    {
      "cell_type": "markdown",
      "metadata": {
        "id": "qI4ZYb5E4w5p"
      },
      "source": [
        "**Define method parameters**"
      ]
    },
    {
      "cell_type": "code",
      "metadata": {
        "id": "6o3zdXWYuuFy"
      },
      "source": [
        "# Define iteration functions\n",
        "# *0 solution from previous time step\n",
        "# *1 linearized solution at present time step\n",
        "r0 = Function(R)\n",
        "m0 = Function(V)\n",
        "E0 = Function(Q)\n",
        "r1 = Function(R)\n",
        "m1 = Function(V)\n",
        "E1 = Function(Q)\n",
        "\n",
        "eps_cav = 1.0e-6\n",
        "\n",
        "# Set parameters for nonlinear and linear solvers\n",
        "num_nnlin_iter = 5\n",
        "prec = \"amg\" if has_krylov_solver_preconditioner(\"amg\") else \"default\"\n",
        "\n",
        "# Time step length\n",
        "dt = 0.5*mesh.hmin()*(r_in/m_in)"
      ],
      "execution_count": 6,
      "outputs": []
    },
    {
      "cell_type": "markdown",
      "metadata": {
        "id": "y0EnzPyU46PX"
      },
      "source": [
        "**Define variational problem**"
      ]
    },
    {
      "cell_type": "code",
      "metadata": {
        "id": "W-bCOI6LuxFi"
      },
      "source": [
        "# Define variational problem\n",
        "\n",
        "# Mean velocities for trapozoidal time stepping\n",
        "rm = 0.5*(r + r0)\n",
        "mm = 0.5*(m + m0)\n",
        "Em = 0.5*(E + E0)\n",
        "\n",
        "rm1 = 0.5*(r1 + r0)\n",
        "mm1 = 0.5*(m1 + m0)\n",
        "Em1 = 0.5*(E1 + E0)\n",
        "\n",
        "u0 = m0/(r0 + eps_cav)\n",
        "u1 = m1/(r1 + eps_cav)\n",
        "um1 = 0.5*(u1 + u0)\n",
        "\n",
        "# Perfect gas\n",
        "#gamma = 1.4 # specific heat ratio for air\n",
        "p1 = (gamma - 1.0)*(E1 - 0.5*inner(m1,m1)/(r1 + eps_cav)) # pressure\n",
        "\n",
        "# Temperature\n",
        "Temp = E1/r1 - 0.5*inner(u1, u1)\n",
        "\n",
        "# Speed of sound\n",
        "c = sqrt(gamma*(gamma-1.0)*Temp)\n",
        "\n",
        "# Mach number\n",
        "Mach = sqrt(inner(u1, u1))/c\n",
        "\n",
        "# Facet normal\n",
        "normal = FacetNormal(mesh)\n",
        "\n",
        "# Local mesh size\n",
        "h = CellDiameter(mesh);\n",
        "\n",
        "# Stabilization parameters\n",
        "u_mag = sqrt(dot(u1,u1))\n",
        "C1 = 1.0\n",
        "d1 = C1/sqrt((pow(1.0/dt,2.0) + pow(u_mag/h,2.0)))\n",
        "\n",
        "# Penalty boundary conditions\n",
        "C_alpha = 1.0e2\n",
        "alpha = C_alpha/h\n",
        "\n",
        "# Residuals\n",
        "res_r = (r1 - r0)/dt + div(u1)*r1 + inner(grad(r1), u1)\n",
        "res_m = (m1 - m0)/dt + div(u1)*m1 + grad(m1)*u1 + grad(p1)\n",
        "res_E = (E1 - E0)/dt + div(u1)*E1 + inner(grad(E1), u1) + div(u1)*p1 + inner(grad(p1), u1)\n",
        "\n",
        "# Smagorinsky model (simplified)\n",
        "C_t = 1.0e-2\n",
        "\n",
        "C_stab = 1.0\n",
        "\n",
        "#nu_turb = h\n",
        "#nu_turb = C_t*h*h*sqrt(inner(grad(um1), grad(um1)))\n",
        "#nu_turb = C_stab*h*h*sqrt(res_r*res_r + inner(res_m, res_m) + res_E*res_E)\n",
        "\n",
        "nu_r = C_stab*h*h*sqrt(res_r*res_r)/r_in\n",
        "nu_m = C_stab*h*h*sqrt(inner(res_m, res_m))/m_in\n",
        "nu_E = C_stab*h*h*sqrt(res_E*res_E)/E_in\n",
        "\n",
        "# Density variational equation on residual form\n",
        "Fr = inner((r - r0)/dt, d)*dx - inner(rm*um1, grad(d))*dx \\\n",
        "    + nu_r * inner(grad(rm), grad(d))*dx \\\n",
        "    + inner(dot(um1, normal)*r_in, d)*ds(1) \\\n",
        "    + inner(dot(um1, normal)*rm, d)*ds(2)\n",
        "    #+ d1*inner((r - r0)/dt + div(u1)*rm + inner(grad(rm), u1), dot(grad(d), u1))*dx \\\n",
        "\n",
        "ar = lhs(Fr)\n",
        "Lr = rhs(Fr)\n",
        "\n",
        "# Momentum variational equation on residual form\n",
        "Fm = inner((m - m0)/dt, v)*dx - inner(outer(mm,um1), grad(v))*dx - p1*div(v)*dx \\\n",
        "        + nu_m * inner(grad(mm), grad(v))*dx \\\n",
        "        + alpha*(inner(dot(mm,normal), dot(v,normal)))*ds(5) \\\n",
        "        + (dot(u1, normal)*inner(m_in_vec, v))*ds(1) \\\n",
        "        + (dot(u1, normal)*inner(mm, v))*ds(2)\n",
        "        #+ d1*inner((m - m0)/dt + div(u1)*mm + grad(mm)*u1 + grad(p1), grad(v)*u1)*dx \\\n",
        "\n",
        "am = lhs(Fm)\n",
        "Lm = rhs(Fm)\n",
        "\n",
        "# Density variational equation on residual form\n",
        "FE = inner((E - E0)/dt, q)*dx - inner(Em*um1, grad(q))*dx \\\n",
        "    + nu_E * inner(grad(Em), grad(q))*dx \\\n",
        "    + inner(dot(um1, normal)*E_in, q)*ds(1) \\\n",
        "    + inner(dot(um1, normal)*Em, q)*ds(2)\n",
        "    #+ d1*inner((E - E0)/dt + div(u1)*Em + inner(grad(Em), u1) + div(u1)*p1 + inner(grad(p1), u1), dot(grad(q), u1))*dx \\\n",
        "\n",
        "aE = lhs(FE)\n",
        "LE = rhs(FE)"
      ],
      "execution_count": 7,
      "outputs": []
    },
    {
      "cell_type": "markdown",
      "metadata": {
        "id": "vFN4F231ZXKc"
      },
      "source": [
        "**Compute force on boundary**"
      ]
    },
    {
      "cell_type": "code",
      "metadata": {
        "id": "-2aWCr3YZccP"
      },
      "source": [
        "# Define the direction of the force to be computed\n",
        "psi_x = 1.0\n",
        "psi_y = 0.0\n",
        "\n",
        "# Define the indicator function for the force\n",
        "V_psi = VectorFunctionSpace(mesh, \"CG\", 1)\n",
        "psi = Function(V_psi)\n",
        "psi.vector()[:] = 0.0\n",
        "\n",
        "bc_psi = DirichletBC(V_psi, Constant((psi_x, psi_y)), dbc_objects)\n",
        "bc_psi.apply(psi.vector())\n",
        "\n",
        "# Velocity\n",
        "u1 = m1/(r1 + eps_cav)\n",
        "\n",
        "# Perfect gas\n",
        "p1 = (gamma - 1.0)*(E1 - 0.5*inner(m1,m1)/(r1 + eps_cav)) # pressure\n",
        "\n",
        "#Force = inner((u1 - u0)/dt + grad(um1)*um1, psi)*dx - p1*div(psi)*dx\n",
        "Force = inner((m1 - m0)/dt + div(u1)*m1 + grad(m1)*u1, psi)*dx - p1*div(psi)*dx\n",
        "\n",
        "force_normal = FacetNormal(mesh)\n",
        "Force_pressure = inner(force_normal, psi)*p1*ds(5)\n",
        "\n",
        "# Force normalization to get non-dimensional force coefficient (e.g. cd)\n",
        "#D = 2*rc\n",
        "u_in = m_in/r_in\n",
        "#normalization = -2.0/(2.0*rc*u_in*u_in)\n",
        "normalization = 1.0"
      ],
      "execution_count": 8,
      "outputs": []
    },
    {
      "cell_type": "markdown",
      "metadata": {
        "id": "nl9EBgZU6tMZ"
      },
      "source": [
        "**Set plotting variables and open export files**"
      ]
    },
    {
      "cell_type": "code",
      "metadata": {
        "id": "Xpu2R7ZMu3bO"
      },
      "source": [
        "# Open files to export solution to Paraview\n",
        "file_r = File(\"results-NS/r.pvd\")\n",
        "file_m = File(\"results-NS/m.pvd\")\n",
        "file_E = File(\"results-NS/E.pvd\")\n",
        "file_Mach = File(\"results-NS/Mach.pvd\")\n",
        "\n",
        "# Set plot frequency\n",
        "plot_time = 0\n",
        "plot_freq = 1\n",
        "\n",
        "# Force computation data\n",
        "force_array = np.array(0.0)\n",
        "force_array = np.delete(force_array, 0)\n",
        "\n",
        "force_array_pressure = np.array(0.0)\n",
        "force_array_pressure = np.delete(force_array_pressure, 0)\n",
        "\n",
        "time = np.array(0.0)\n",
        "time = np.delete(time, 0)\n",
        "\n",
        "start_sample_time = 1.0"
      ],
      "execution_count": 9,
      "outputs": []
    },
    {
      "cell_type": "markdown",
      "metadata": {
        "id": "F_PajAPw6xdn"
      },
      "source": [
        "**Time stepping algorithm**"
      ]
    },
    {
      "cell_type": "code",
      "metadata": {
        "id": "JUfvsjZPvBc0",
        "colab": {
          "base_uri": "https://localhost:8080/",
          "height": 1000
        },
        "outputId": "6fc289cf-17e4-4783-8b12-cf04d15e6ab7"
      },
      "source": [
        "!rm results-NS/*\n",
        "\n",
        "r0.interpolate(Expression(\"1.4\", degree=1))\n",
        "m0.interpolate(Expression((\"4.0\", \"0.0\"), degree=1))\n",
        "E0.interpolate(Expression(\"8.94\", degree=1))\n",
        "\n",
        "# Plot solution\n",
        "plt.figure()\n",
        "im = plot(r0, title=\"Density\")\n",
        "plt.colorbar(im)\n",
        "\n",
        "plt.figure()\n",
        "im = plot(m0, title=\"Momentum\")\n",
        "plt.colorbar(im)\n",
        "\n",
        "plt.figure()\n",
        "im = plot(E0, title=\"Total energy\")\n",
        "plt.colorbar(im)\n",
        "\n",
        "# Time stepping\n",
        "T = 2\n",
        "t = dt\n",
        "while t < T + DOLFIN_EPS:\n",
        "\n",
        "    #s = 'Time t = ' + repr(t)\n",
        "    #print(s)\n",
        "\n",
        "    #pin.t = t\n",
        "    #uin.t = t\n",
        "\n",
        "    # Solve non-linear problem\n",
        "    k = 0\n",
        "    while k < num_nnlin_iter:\n",
        "\n",
        "        # Assemble density matrix and vector\n",
        "        Ar = assemble(ar)\n",
        "        br = assemble(Lr)\n",
        "\n",
        "        # Compute density solution\n",
        "        [bc.apply(Ar, br) for bc in bcr]\n",
        "        [bc.apply(r1.vector()) for bc in bcr]\n",
        "        solve(Ar, r1.vector(), br, \"bicgstab\", \"default\")\n",
        "\n",
        "        # Assemble momentum matrix and vector\n",
        "        Am = assemble(am)\n",
        "        bm = assemble(Lm)\n",
        "\n",
        "        # Compute momentum solution\n",
        "        [bc.apply(Am, bm) for bc in bcm]\n",
        "        [bc.apply(m1.vector()) for bc in bcm]\n",
        "        solve(Am, m1.vector(), bm, \"bicgstab\", \"default\")\n",
        "\n",
        "        # Slip boundary condition\n",
        "        #bcm_slip_0 = m1[0] - dot(m1, node_normal)*node_normal[0]\n",
        "        #bcm_slip_1 = m1[1] - dot(m1, node_normal)*node_normal[1]\n",
        "        #[bc.apply(m1.vector()) for bc in bcm_slip]\n",
        "\n",
        "        # Assemble total energy matrix and vector\n",
        "        AE = assemble(aE)\n",
        "        bE = assemble(LE)\n",
        "\n",
        "        # Compute total energy solution\n",
        "        [bc.apply(AE, bE) for bc in bcE]\n",
        "        [bc.apply(E1.vector()) for bc in bcE]\n",
        "        solve(AE, E1.vector(), bE, \"bicgstab\", \"default\")\n",
        "\n",
        "        k += 1\n",
        "\n",
        "    if t > plot_time:\n",
        "\n",
        "        s = 'Time t = ' + repr(t)\n",
        "        print(s)\n",
        "\n",
        "        u1 = m1 / (r1 + eps_cav)\n",
        "        Temp = E1/(r1 + eps_cav) - 0.5*inner(u1, u1)\n",
        "        c = sqrt(gamma*(gamma-1.0)*abs(Temp))\n",
        "        Mach_number = project(sqrt(inner(u1, u1))/(c + eps_cav), Q)\n",
        "\n",
        "        # Save solution to file\n",
        "        file_r << r1\n",
        "        file_m << m1\n",
        "        file_E << E1\n",
        "        file_Mach << Mach_number\n",
        "\n",
        "        # Plot solution\n",
        "        plt.figure()\n",
        "        im = plot(r1, title=\"Density\")\n",
        "        plt.colorbar(im)\n",
        "\n",
        "        plt.figure()\n",
        "        im = plot(m1, title=\"Momentum\")\n",
        "        plt.colorbar(im)\n",
        "\n",
        "        plt.figure()\n",
        "        im = plot(E1, title=\"Total energy\")\n",
        "        plt.colorbar(im)\n",
        "\n",
        "        plt.figure()\n",
        "        im = plot(u1, title=\"Velocity\")\n",
        "        plt.colorbar(im)\n",
        "\n",
        "        plt.figure()\n",
        "        im = plot(sqrt(inner(u1, u1)), title=\"Velocity magnitude\")\n",
        "        plt.colorbar(im)\n",
        "\n",
        "        plt.figure()\n",
        "        im = plot(Mach_number, title=\"Mach number\")\n",
        "        plt.colorbar(im)\n",
        "\n",
        "        plt.figure()\n",
        "        im = plot(Temp, title=\"Temperature\")\n",
        "        plt.colorbar(im)\n",
        "        plt.show()\n",
        "\n",
        "        plot_time += T/plot_freq\n",
        "\n",
        "\n",
        "\n",
        "    # Update time step\n",
        "    r0.assign(r1)\n",
        "    m0.assign(m1)\n",
        "    E0.assign(E1)\n",
        "    t += dt\n",
        "\n",
        "!tar -czvf results-NS.tar.gz results-NS\n",
        "# files.download('results-NS.tar.gz')"
      ],
      "execution_count": 10,
      "outputs": [
        {
          "output_type": "stream",
          "name": "stdout",
          "text": [
            "rm: cannot remove 'results-NS/*': No such file or directory\n",
            "UFL conditions cannot be evaluated as bool in a Python context.\n"
          ]
        },
        {
          "output_type": "stream",
          "name": "stderr",
          "text": [
            "ERROR:UFL_LEGACY:UFL conditions cannot be evaluated as bool in a Python context.\n"
          ]
        },
        {
          "output_type": "error",
          "ename": "UFLException",
          "evalue": "UFL conditions cannot be evaluated as bool in a Python context.",
          "traceback": [
            "\u001b[0;31m---------------------------------------------------------------------------\u001b[0m",
            "\u001b[0;31mUFLException\u001b[0m                              Traceback (most recent call last)",
            "\u001b[0;32m<ipython-input-10-984513992465>\u001b[0m in \u001b[0;36m<cell line: 0>\u001b[0;34m()\u001b[0m\n\u001b[1;32m     21\u001b[0m \u001b[0mT\u001b[0m \u001b[0;34m=\u001b[0m \u001b[0;36m2\u001b[0m\u001b[0;34m\u001b[0m\u001b[0;34m\u001b[0m\u001b[0m\n\u001b[1;32m     22\u001b[0m \u001b[0mt\u001b[0m \u001b[0;34m=\u001b[0m \u001b[0mdt\u001b[0m\u001b[0;34m\u001b[0m\u001b[0;34m\u001b[0m\u001b[0m\n\u001b[0;32m---> 23\u001b[0;31m \u001b[0;32mwhile\u001b[0m \u001b[0mt\u001b[0m \u001b[0;34m<\u001b[0m \u001b[0mT\u001b[0m \u001b[0;34m+\u001b[0m \u001b[0mDOLFIN_EPS\u001b[0m\u001b[0;34m:\u001b[0m\u001b[0;34m\u001b[0m\u001b[0;34m\u001b[0m\u001b[0m\n\u001b[0m\u001b[1;32m     24\u001b[0m \u001b[0;34m\u001b[0m\u001b[0m\n\u001b[1;32m     25\u001b[0m     \u001b[0;31m#s = 'Time t = ' + repr(t)\u001b[0m\u001b[0;34m\u001b[0m\u001b[0;34m\u001b[0m\u001b[0m\n",
            "\u001b[0;32m/usr/local/lib/python3.11/dist-packages/ufl_legacy/conditional.py\u001b[0m in \u001b[0;36m__bool__\u001b[0;34m(self)\u001b[0m\n\u001b[1;32m     32\u001b[0m     \u001b[0;32mdef\u001b[0m \u001b[0m__bool__\u001b[0m\u001b[0;34m(\u001b[0m\u001b[0mself\u001b[0m\u001b[0;34m)\u001b[0m\u001b[0;34m:\u001b[0m\u001b[0;34m\u001b[0m\u001b[0;34m\u001b[0m\u001b[0m\n\u001b[1;32m     33\u001b[0m         \u001b[0;31m# Showing explicit error here to protect against misuse\u001b[0m\u001b[0;34m\u001b[0m\u001b[0;34m\u001b[0m\u001b[0m\n\u001b[0;32m---> 34\u001b[0;31m         \u001b[0merror\u001b[0m\u001b[0;34m(\u001b[0m\u001b[0;34m\"UFL conditions cannot be evaluated as bool in a Python context.\"\u001b[0m\u001b[0;34m)\u001b[0m\u001b[0;34m\u001b[0m\u001b[0;34m\u001b[0m\u001b[0m\n\u001b[0m\u001b[1;32m     35\u001b[0m     \u001b[0m__nonzero__\u001b[0m \u001b[0;34m=\u001b[0m \u001b[0m__bool__\u001b[0m\u001b[0;34m\u001b[0m\u001b[0;34m\u001b[0m\u001b[0m\n\u001b[1;32m     36\u001b[0m \u001b[0;34m\u001b[0m\u001b[0m\n",
            "\u001b[0;32m/usr/local/lib/python3.11/dist-packages/ufl_legacy/log.py\u001b[0m in \u001b[0;36merror\u001b[0;34m(self, *message)\u001b[0m\n\u001b[1;32m    156\u001b[0m         \u001b[0;34m\"Write error message and raise an exception.\"\u001b[0m\u001b[0;34m\u001b[0m\u001b[0;34m\u001b[0m\u001b[0m\n\u001b[1;32m    157\u001b[0m         \u001b[0mself\u001b[0m\u001b[0;34m.\u001b[0m\u001b[0m_log\u001b[0m\u001b[0;34m.\u001b[0m\u001b[0merror\u001b[0m\u001b[0;34m(\u001b[0m\u001b[0;34m*\u001b[0m\u001b[0mmessage\u001b[0m\u001b[0;34m)\u001b[0m\u001b[0;34m\u001b[0m\u001b[0;34m\u001b[0m\u001b[0m\n\u001b[0;32m--> 158\u001b[0;31m         \u001b[0;32mraise\u001b[0m \u001b[0mself\u001b[0m\u001b[0;34m.\u001b[0m\u001b[0m_exception_type\u001b[0m\u001b[0;34m(\u001b[0m\u001b[0mself\u001b[0m\u001b[0;34m.\u001b[0m\u001b[0m_format_raw\u001b[0m\u001b[0;34m(\u001b[0m\u001b[0;34m*\u001b[0m\u001b[0mmessage\u001b[0m\u001b[0;34m)\u001b[0m\u001b[0;34m)\u001b[0m\u001b[0;34m\u001b[0m\u001b[0;34m\u001b[0m\u001b[0m\n\u001b[0m\u001b[1;32m    159\u001b[0m \u001b[0;34m\u001b[0m\u001b[0m\n\u001b[1;32m    160\u001b[0m     \u001b[0;32mdef\u001b[0m \u001b[0mbegin\u001b[0m\u001b[0;34m(\u001b[0m\u001b[0mself\u001b[0m\u001b[0;34m,\u001b[0m \u001b[0;34m*\u001b[0m\u001b[0mmessage\u001b[0m\u001b[0;34m)\u001b[0m\u001b[0;34m:\u001b[0m\u001b[0;34m\u001b[0m\u001b[0;34m\u001b[0m\u001b[0m\n",
            "\u001b[0;31mUFLException\u001b[0m: UFL conditions cannot be evaluated as bool in a Python context."
          ]
        },
        {
          "output_type": "display_data",
          "data": {
            "text/plain": [
              "<Figure size 640x480 with 2 Axes>"
            ],
            "image/png": "[encoded data removed]"
          },
          "metadata": {}
        },
        {
          "output_type": "display_data",
          "data": {
            "text/plain": [
              "<Figure size 640x480 with 2 Axes>"
            ],
            "image/png": "[encoded data removed]"
          },
          "metadata": {}
        },
        {
          "output_type": "display_data",
          "data": {
            "text/plain": [
              "<Figure size 640x480 with 2 Axes>"
            ],
            "image/png": "[encoded data removed]"
          },
          "metadata": {}
        }
      ]
    },
    {
      "cell_type": "markdown",
      "metadata": {
        "id": "_4GLBv0zWr7m"
      },
      "source": [
        "# **Discussion**"
      ]
    },
    {
      "cell_type": "markdown",
      "metadata": {
        "id": "6bcsDSoRXHZe"
      },
      "source": [
        "A stabilized finite element method was implemented in FEniCS to solve the Euler equations for compressible flow in 2D."
      ]
    }
  ]
}