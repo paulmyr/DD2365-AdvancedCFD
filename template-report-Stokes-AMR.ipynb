{
  "nbformat": 4,
  "nbformat_minor": 0,
  "metadata": {
    "colab": {
      "name": "template-report-Stokes-AMR.ipynb",
      "provenance": [],
      "include_colab_link": true
    },
    "kernelspec": {
      "name": "python3",
      "display_name": "Python 3"
    }
  },
  "cells": [
    {
      "cell_type": "markdown",
      "metadata": {
        "id": "view-in-github",
        "colab_type": "text"
      },
      "source": [
        "<a href=\"https://colab.research.google.com/github/paulmyr/DD2365-AdvancedCFD/blob/master/template-report-Stokes-AMR.ipynb\" target=\"_parent\"><img src=\"https://colab.research.google.com/assets/colab-badge.svg\" alt=\"Open In Colab\"/></a>"
      ]
    },
    {
      "cell_type": "markdown",
      "metadata": {
        "id": "cyCUwzF-wRoW"
      },
      "source": [
        "# **The Stokes equations - adaptive mesh refinement**\n",
        "**Johan Hoffman**"
      ]
    },
    {
      "cell_type": "markdown",
      "metadata": {
        "id": "9x_J5FVuPzbm"
      },
      "source": [
        "# **Abstract**"
      ]
    },
    {
      "cell_type": "markdown",
      "metadata": {
        "id": "6UFTSzW7P8kL"
      },
      "source": [
        "This short report show an example on how to use FEniCS to solve the Stokes equations using adaptive mesh refinement, which is used in the course DD2365 Advanced Computation in Fluid Mechanics, at the KTH Royal Institute of Technology.\n",
        "\n",
        "[DD2365 course website.](https://www.kth.se/social/course/DD2365/)"
      ]
    },
    {
      "cell_type": "markdown",
      "metadata": {
        "id": "OkT8J7uOWpT3"
      },
      "source": [
        "# **About the code**"
      ]
    },
    {
      "cell_type": "code",
      "metadata": {
        "id": "Pdll1Xc9WP0e"
      },
      "source": [
        "# This program is an example file for the course\n",
        "# DD2365 Advanced Computation in Fluid Mechanics,\n",
        "# KTH Royal Institute of Technology, Stockholm, Sweden.\n",
        "\n",
        "# Copyright (C) 2020 Johan Hoffman (jhoffman@kth.se)\n",
        "\n",
        "# This file is part of the course DD2365 Advanced Computation in Fluid Mechanics\n",
        "# KTH Royal Institute of Technology, Stockholm, Sweden\n",
        "#\n",
        "# This is free software: you can redistribute it and/or modify\n",
        "# it under the terms of the GNU Lesser General Public License as published by\n",
        "# the Free Software Foundation, either version 3 of the License, or\n",
        "# (at your option) any later version.\n",
        "\n",
        "# This template is maintained by Johan Hoffman\n",
        "# Please report problems to jhoffman@kth.se"
      ],
      "execution_count": null,
      "outputs": []
    },
    {
      "cell_type": "markdown",
      "metadata": {
        "id": "28xLGz8JX3Hh"
      },
      "source": [
        "# **Set up environment**"
      ]
    },
    {
      "cell_type": "code",
      "metadata": {
        "id": "Xw7VlErAX7NS",
        "collapsed": true
      },
      "source": [
        "# Load neccessary modules.\n",
        "from google.colab import files\n",
        "\n",
        "import numpy as np\n",
        "import time\n",
        "\n",
        "# Install FEniCS (this may take a long time)\n",
        "try:\n",
        "    import dolfin\n",
        "except ImportError:\n",
        "    !wget \"https://fem-on-colab.github.io/releases/fenics-install-release-real.sh\" -O \"/tmp/fenics-install.sh\" && bash \"/tmp/fenics-install.sh\"\n",
        "    import dolfin\n",
        "\n",
        "from dolfin import *; from mshr import *\n",
        "\n",
        "import dolfin.common.plotting as fenicsplot\n",
        "\n",
        "from matplotlib import pyplot as plt"
      ],
      "execution_count": null,
      "outputs": []
    },
    {
      "cell_type": "markdown",
      "metadata": {
        "id": "gnO3lhAigLev"
      },
      "source": [
        "# **Introduction**"
      ]
    },
    {
      "cell_type": "markdown",
      "metadata": {
        "id": "l5zMzgPlRAF6"
      },
      "source": [
        "The Stokes equations take the form\n",
        "\n",
        "$\\nabla p -\\Delta u = f,\\quad \\nabla \\cdot u=0,$\n",
        "\n",
        "together with boundary conditions for $\\partial \\Omega = \\Gamma_D \\cup \\Gamma_N \\cup \\Gamma_F$\n",
        "\n",
        "$\n",
        "u=g_D,\\quad x\\in \\Gamma_D\n",
        "$\n",
        "\n",
        "$\n",
        "u=0,\\quad x\\in \\Gamma_F\n",
        "$\n",
        "\n",
        "$\n",
        "-\\nabla u\\cdot n + pn = 0,\\quad x\\in \\Gamma_N\n",
        "$\n",
        "\n",
        "Here $\\Gamma_D$ is the part of the boundary where we prescribe Dirichlet boundary conditions, $\\Gamma_N$ a part of the boundary where we apply a homogeneous Neumann boundary condition, and $\\Gamma_F$ the part of the boundary over which we want to compute the force.\n",
        "\n",
        "The weak (variational) form of the equations is: find a solution $(u,p)\\in V\\times Q$ such that\n",
        "\n",
        "$- (p,\\nabla \\cdot v) + (\\nabla u,\\nabla v) + (\\nabla \\cdot u, q) = (f,v)$\n",
        "\n",
        "for all test functions $(v,q) \\in \\hat V \\times Q$, where $\\hat V$ are the test functions $v$ such that $v=0$ for $x\\in \\Gamma_D$.\n",
        "\n",
        "Here we present a FEniCS implementation of a mixed finite element method to solve the Stokes equations in 2D. The solution is visualized using FEniCS plotting functions, and is also exported as pvd-files which can be visualized in Paraview.\n",
        "\n",
        "We seek a finite element approximation $(U,P)\\in V_h\\times Q_h$ such that\n",
        "\n",
        "$- (P,\\nabla \\cdot v) + (\\nabla U,\\nabla v) + (\\nabla \\cdot U, q) = (f,v)$\n",
        "\n",
        "for all test functions $(v,q) \\in \\hat V_h \\times Q_h$, where $\\hat V_h$ are the test functions $v$ such that $v=0$ for $x\\in \\Gamma_D$. Here $V_h\\subset V, Q_h\\subset Q, \\hat V_h\\subset \\hat V$ are finite dimensional subspaces defined over the computational mesh by finite element basis functions.\n",
        "\n",
        "To implement the velocity Dirichlet boundary conditions we use a penalty formulation, with a penalty parameter $\\gamma = C/h$, where $C>0$ is a constant and $h$ is the local mesh size. At the outflow a \"do nothing\" zero stress boundary condition is used, meaning that the boundary condition is enforced weakly by setting the boundary integral to zero.\n",
        "\n",
        "We consider the linear functional $F:V\\times Q\\rightarrow {\\mathbb R}$,\n",
        "\n",
        "$F(v,q) = (v,\\psi_1)_{\\Omega} + (q,\\psi_2)_{\\Omega} + \\left<\\nabla v\\cdot n - pn,\\psi_3 \\right>_{\\Gamma_F}$\n",
        "\n",
        "corresponding to weighted mean values of $v$ and $q$, and the force on the surface $\\Gamma_F\\subset \\partial \\Omega$,\n",
        "which generates the adjoint Stokes equations\n",
        "\n",
        "$-\\nabla \\theta -\\Delta \\varphi = \\psi_1,\\quad -\\nabla \\cdot \\varphi=\\psi_2,$\n",
        "\n",
        "together with boundary conditions that reflect the primal equations and the chosen functional.\n",
        "\n",
        "$\n",
        "\\varphi=0,\\quad x\\in \\Gamma_D\n",
        "$\n",
        "\n",
        "$\n",
        "\\varphi=\\psi_3,\\quad x\\in \\Gamma_F\n",
        "$\n",
        "\n",
        "$\n",
        "- \\nabla \\varphi \\cdot n - \\theta n=0, \\quad x\\in \\Gamma_N\n",
        "$\n",
        "\n",
        "The weak form of the adjoint Stokes equations take the form: find $(\\varphi,\\theta)\\in \\hat V\\times Q$ such that\n",
        "\n",
        "$- (q,\\nabla \\cdot \\varphi) + (\\nabla v,\\nabla \\varphi) + (\\nabla \\cdot v, \\theta) = (v,\\psi_1)_{\\Omega} + (q,\\psi_2)_{\\Omega} - \\left<\\nabla v\\cdot n - pn,\\psi_3 \\right>_{\\Gamma_F}= F(v,q)$\n",
        "\n",
        "for all test functions $(v,q) \\in V\\times Q$.\n",
        "\n",
        "Since the Stokes equations are linear we can express the error in the linear functional with respect to an approximation $(u,p)\\approx (U,P)$ as\n",
        "\n",
        "$F(u,p) - F(U,P) = (f,\\varphi) + (P,\\nabla \\cdot \\varphi) - (\\nabla U,\\nabla \\varphi) - (\\nabla \\cdot U, \\theta) = r(U,P;\\varphi,\\theta) = \\sum_K {\\mathcal E}_K$\n",
        "\n",
        "where we used that $F(u,p)=(f,\\varphi)$ since $\\varphi \\in \\hat V$,\n",
        "with the error indicator\n",
        "\n",
        "${\\mathcal E}_K = r(U,P;\\varphi,\\theta)\\vert _K$,\n",
        "\n",
        "which is the local residual on weak form with the solution to the adjoint equation as test function. The error indicator ${\\mathcal E}_K$ can be used as an indicator for where to refine the mesh to reduce the global error as efficiently as possible.\n",
        "\n",
        "Note however that since $(U,P)\\in V\\times Q$ is the solution of a Galerkin finite element method, if we use the approximation $(\\varphi,\\theta) \\approx (\\varphi_h,\\theta_h) \\in \\hat V_h\\times Q_h$, the error indicators sum to zero. Hence, this sum cannot be used as a stopping criterion for an adaptive algorithm. Instead we may use error estimates of the type\n",
        "\n",
        "$\n",
        "{\\mathcal E}_K \\leq C h_K  (\\Vert \\nabla \\varphi_h \\Vert_K + \\Vert \\nabla \\theta_h\\Vert_K) \\Vert R(U,P)\\Vert_K\n",
        "$\n",
        "\n",
        "where $R(U,P)=(R_1(U,P),R_2(U))$ is the residual of the equations in strong form, with\n",
        "\n",
        "$\n",
        "R_1(U,P) = f + \\Delta U - \\nabla P\n",
        "$\n",
        "\n",
        "$\n",
        "R_2(U) = \\nabla \\cdot U\n",
        "$\n",
        "\n",
        "To read more about how to use similar methods for more complex problems, see e.g.\n",
        "\n",
        "[Hoffman, Johan, et al. \"Towards a parameter-free method for high reynolds number turbulent flow simulation based on adaptive finite element approximation.\" Computer Methods in Applied Mechanics and Engineering 288 (2015): 60-74.](https://www.sciencedirect.com/science/article/pii/S0045782514004836)\n"
      ]
    },
    {
      "cell_type": "markdown",
      "metadata": {
        "id": "jOQvukXZq5U5"
      },
      "source": [
        "# **Method**"
      ]
    },
    {
      "cell_type": "markdown",
      "metadata": {
        "id": "wu2fugJ32t8m"
      },
      "source": [
        "**Define domain and mesh**"
      ]
    },
    {
      "cell_type": "code",
      "metadata": {
        "id": "_KBWOVATuBQz"
      },
      "source": [
        "# Define rectangular domain\n",
        "L = 4\n",
        "H = 4\n",
        "\n",
        "# Define circle\n",
        "xc = 0.5*L\n",
        "yc = 0.5*H\n",
        "rc = 0.2\n",
        "\n",
        "# Generate mesh (examples with and without a hole in the mesh)\n",
        "resolution = 32\n",
        "#mesh = RectangleMesh(Point(0.0, 0.0), Point(L, H), L*resolution, H*resolution)\n",
        "mesh = generate_mesh(Rectangle(Point(0.0,0.0), Point(L,H)) - Circle(Point(xc,yc),rc), resolution)\n",
        "\n",
        "# Local mesh refinement (specified by a cell marker)\n",
        "init_no_levels = 0\n",
        "for i in range(0,init_no_levels):\n",
        "  cell_marker = MeshFunction(\"bool\", mesh, mesh.topology().dim())\n",
        "  for cell in cells(mesh):\n",
        "    cell_marker[cell] = False\n",
        "    p = cell.midpoint()\n",
        "    if p.distance(Point(0.5, 0.5)) < 1.0:\n",
        "        cell_marker[cell] = True\n",
        "  mesh = refine(mesh, cell_marker)\n",
        "\n",
        "plt.figure()\n",
        "plot(mesh)\n",
        "plt.show()"
      ],
      "execution_count": null,
      "outputs": []
    },
    {
      "cell_type": "markdown",
      "metadata": {
        "id": "-le1iA8u3fS-"
      },
      "source": [
        "**Define finite element approximation spaces**"
      ]
    },
    {
      "cell_type": "code",
      "metadata": {
        "id": "uWeyBcYXuaPq"
      },
      "source": [
        "# Generate mixed finite element spaces (for primal velocity and pressure)\n",
        "VE = VectorElement(\"CG\", mesh.ufl_cell(), 2)\n",
        "QE = FiniteElement(\"CG\", mesh.ufl_cell(), 1)\n",
        "WE = VE * QE\n",
        "\n",
        "W = FunctionSpace(mesh, WE)\n",
        "V = FunctionSpace(mesh, VE)\n",
        "Q = FunctionSpace(mesh, QE)\n",
        "\n",
        "# Define trial and test functions\n",
        "w = Function(W)\n",
        "(u, p) = (as_vector((w[0],w[1])), w[2])\n",
        "(v, q) = TestFunctions(W)\n",
        "\n",
        "# Generate mixed finite element spaces (for adjoint velocity and pressure)\n",
        "VEa = VectorElement(\"CG\", mesh.ufl_cell(), 3)\n",
        "QEa = FiniteElement(\"CG\", mesh.ufl_cell(), 2)\n",
        "WEa = VEa * QEa\n",
        "\n",
        "Wa = FunctionSpace(mesh, WEa)\n",
        "Va = FunctionSpace(mesh, VEa)\n",
        "Qa = FunctionSpace(mesh, QEa)\n",
        "\n",
        "# Define adjoint trial and test functions\n",
        "wa = Function(Wa)\n",
        "(phi, theta) = (as_vector((wa[0],wa[1])), wa[2])\n",
        "(va, qa) = TestFunctions(Wa)"
      ],
      "execution_count": null,
      "outputs": []
    },
    {
      "cell_type": "markdown",
      "metadata": {
        "id": "OKzE7v-B3o9R"
      },
      "source": [
        "**Define boundary conditions**"
      ]
    },
    {
      "cell_type": "code",
      "metadata": {
        "id": "WAsDDvdKujQT"
      },
      "source": [
        "# Examples of inflow and outflow conditions\n",
        "XMIN = 0.0; XMAX = L\n",
        "YMIN = 0.0; YMAX = H\n",
        "uin = Expression((\"4*(x[1]*(YMAX-x[1]))/(YMAX*YMAX)\", \"0.\"), YMAX=YMAX, element = V.ufl_element())\n",
        "#pout = 0.0\n",
        "\n",
        "# Inflow boundary (ib), outflow boundary (ob), body boundary (bb) and wall boundary (wb)\n",
        "ib = Expression(\"near(x[0],XMIN) ? 1. : 0.\", XMIN=XMIN, element = Q.ufl_element())\n",
        "ob = Expression(\"near(x[0],XMAX) ? 1. : 0.\", XMAX=XMAX, element = Q.ufl_element())\n",
        "wb = Expression(\"near(x[1],YMIN) || near(x[1],YMAX) ? 1. : 0.\", YMIN=YMIN, YMAX=YMAX, element = Q.ufl_element())\n",
        "bb = Expression(\"x[0] > XMIN + DOLFIN_EPS && x[0] < XMAX - DOLFIN_EPS && x[1] > YMIN + DOLFIN_EPS && x[1] < YMAX - DOLFIN_EPS ? 1. : 0.\", XMIN=XMIN, XMAX=XMAX, YMIN=YMIN, YMAX=YMAX, element = Q.ufl_element())"
      ],
      "execution_count": null,
      "outputs": []
    },
    {
      "cell_type": "markdown",
      "metadata": {
        "id": "SsQLT38gVbn_"
      },
      "source": [
        "# **Results**"
      ]
    },
    {
      "cell_type": "markdown",
      "metadata": {
        "id": "y0EnzPyU46PX"
      },
      "source": [
        "**Define and solve variational problems**"
      ]
    },
    {
      "cell_type": "code",
      "metadata": {
        "id": "W-bCOI6LuxFi"
      },
      "source": [
        "# Set boundary penalty parameter gamma\n",
        "h = CellDiameter(mesh)\n",
        "C = 1.0e3\n",
        "gamma = C/h\n",
        "\n",
        "# Set force in primal problem\n",
        "f = Expression((\"0.0\",\"0.0\"), element = V.ufl_element())\n",
        "\n",
        "# Set data that describe functional that defines the adjoint problem\n",
        "#psi1 = Expression((\"exp(-10.0*(pow(x[0]-2.0,2) + pow(x[1]-1.5,2)))\",\"0.0\"), element = V.ufl_element())\n",
        "#psi2 = Expression(\"exp(-10.0(pow(x[0]-2.0,2) + pow(x[1]-1.0,2)))\", element = Q.ufl_element())\n",
        "psi1 = Expression((\"0.0\",\"0.0\"), element = V.ufl_element())\n",
        "psi2 = Expression(\"0.0\", element = Q.ufl_element())\n",
        "phi3 = Expression((\"1.0\",\"0.0\"), element = V.ufl_element())\n",
        "#phi3 = Expression((\"0.0\",\"1.0\"), element = V.ufl_element())\n",
        "\n",
        "# Define primal variational problem on residual form: r(u,p;v,q) = 0\n",
        "res = ( -p*div(v)*dx + inner(grad(u), grad(v))*dx + div(u)*q*dx - inner(f, v)*dx +\n",
        "        gamma*(ib*inner(u - uin, v) + wb*inner(u, v) + bb*inner(u, v))*ds )\n",
        "\n",
        "# Solve primal algebraic system\n",
        "solve(res == 0, w)\n",
        "\n",
        "# Define adjoint variational problem on residual form: r(u,p;v,q) = 0\n",
        "res_a = ( -qa*div(phi)*dx + inner(grad(va), grad(phi))*dx + div(va)*theta*dx +\n",
        "          gamma*(ib*inner(phi, va) + wb*inner(phi, va) + bb*inner(phi - phi3, va))*ds\n",
        "         - inner(va, psi1)*dx - qa*psi2*dx )\n",
        "\n",
        "# Solve adjoint algebraic system\n",
        "solve(res_a == 0, wa)"
      ],
      "execution_count": null,
      "outputs": []
    },
    {
      "cell_type": "markdown",
      "metadata": {
        "id": "nl9EBgZU6tMZ"
      },
      "source": [
        "**Visualize solution and export files**"
      ]
    },
    {
      "cell_type": "code",
      "metadata": {
        "id": "JUfvsjZPvBc0"
      },
      "source": [
        "!rm results-NS/*\n",
        "\n",
        "# Open files to export solution to Paraview\n",
        "file_u = File(\"results-Stokes/u.pvd\")\n",
        "file_p = File(\"results-Etokes/p.pvd\")\n",
        "file_phi = File(\"results-Stokes/phi.pvd\")\n",
        "file_theta = File(\"results-Etokes/theta.pvd\")\n",
        "\n",
        "# Initiate functions to save and visualize the solutions\n",
        "u_fcn = project(u, V)\n",
        "p_fcn = project(p, Q)\n",
        "phi_fcn = project(phi, V)\n",
        "theta_fcn = project(theta, Q)\n",
        "\n",
        "# Save solution to file\n",
        "file_u << u_fcn\n",
        "file_p << p_fcn\n",
        "file_phi << phi_fcn\n",
        "file_theta << theta_fcn\n",
        "\n",
        "# Plot solution\n",
        "plt.figure()\n",
        "plot(u_fcn, title=\"Velocity\")\n",
        "\n",
        "plt.figure()\n",
        "plot(p_fcn, title=\"Pressure\")\n",
        "\n",
        "plt.figure()\n",
        "plot(phi_fcn, title=\"Adjoint velocity\")\n",
        "\n",
        "plt.figure()\n",
        "plot(theta_fcn, title=\"Adjoint pressure\")\n",
        "\n",
        "plt.show()\n",
        "\n",
        "# Export files\n",
        "#!tar -czvf results-Stokes.tar.gz results-NS\n",
        "#files.download('results-Stokes.tar.gz')"
      ],
      "execution_count": null,
      "outputs": []
    },
    {
      "cell_type": "markdown",
      "metadata": {
        "id": "wBkmhQBrvy_r"
      },
      "source": [
        "**Compute error indicators**"
      ]
    },
    {
      "cell_type": "code",
      "metadata": {
        "id": "9GTflwGev5Pl",
        "collapsed": true
      },
      "source": [
        "# Define function space over the elements of the mesh\n",
        "WDG = FunctionSpace(W.mesh(), \"DG\", 0)\n",
        "elm = TestFunction(WDG)\n",
        "err_ind = Function(WDG)\n",
        "\n",
        "# Compute local error indicators over the cells of the mesh\n",
        "local_error = ( elm*inner(f, phi)*dx + elm*p*div(phi)*dx - elm*inner(grad(u), grad(phi))*dx - elm*div(u)*theta*dx )\n",
        "err_ind.vector()[:] = assemble(local_error)\n",
        "err_ind_abs = np.abs(err_ind.vector())\n",
        "err_ind_mean = err_ind_abs.sum()/err_ind.vector().size()\n",
        "\n",
        "# Local mesh refinement (specified by a cell marker)\n",
        "\"\"\"\n",
        "no_levels = 1\n",
        "for i in range(0,no_levels):\n",
        "  cell_marker = MeshFunction(\"bool\", mesh, mesh.topology().dim())\n",
        "  for c in cells(mesh):\n",
        "    cell_marker[c] = False\n",
        "    local_error_cell = err_ind_abs[c.index()]\n",
        "    if local_error_cell > err_ind_mean:\n",
        "        cell_marker[c] = True\n",
        "  mesh = refine(mesh, cell_marker)\n",
        "\"\"\"\n",
        "\n",
        "cell_marker = MeshFunction(\"bool\", mesh, mesh.topology().dim())\n",
        "for c in cells(mesh):\n",
        "  cell_marker[c] = False\n",
        "  local_error_cell = err_ind_abs[c.index()]\n",
        "  if local_error_cell > err_ind_mean:\n",
        "      cell_marker[c] = True\n",
        "mesh = refine(mesh, cell_marker)\n",
        "\n",
        "plt.figure()\n",
        "plot(mesh)\n",
        "plt.show()\n",
        "\n",
        "plt.figure()\n",
        "plot(cell_marker)\n",
        "plt.show()\n",
        "\n",
        "plt.figure()\n",
        "plot(err_ind)\n",
        "plt.show()\n",
        "\n",
        "err_ind_sum = ( inner(f, phi)*dx + p*div(phi)*dx - inner(grad(u), grad(phi))*dx - div(u)*theta*dx -\n",
        "               gamma*(ib*inner(u - uin, phi) + wb*inner(u, phi) + bb*inner(u, phi))*ds )\n",
        "\n",
        "tot_err = assemble(err_ind_sum)\n",
        "s = 'Total error = ' + repr(tot_err)\n",
        "print(s)"
      ],
      "execution_count": null,
      "outputs": []
    },
    {
      "cell_type": "markdown",
      "metadata": {
        "id": "_4GLBv0zWr7m"
      },
      "source": [
        "# **Discussion**"
      ]
    },
    {
      "cell_type": "markdown",
      "metadata": {
        "id": "6bcsDSoRXHZe"
      },
      "source": [
        "## 1) The domain"
      ]
    },
    {
      "cell_type": "markdown",
      "source": [
        "First we have a look at the original mesh and adjoint solution:\n",
        "\n",
        "![images/lab3/mesh_orig.png](https://github.com/paulmyr/DD2365-AdvancedCFD/blob/master/images/lab3/mesh_orig.png?raw=1)\n",
        "\n",
        "![images/lab3/mesh_orig.png](https://github.com/paulmyr/DD2365-AdvancedCFD/blob/master/images/lab3/v_adjoint_orig.png?raw=1)\n",
        "![images/lab3/mesh_orig.png](https://github.com/paulmyr/DD2365-AdvancedCFD/blob/master/images/lab3/p_adjoint_orig.png?raw=1)\n",
        "\n",
        "The adjoint velocity displays high values mainly in front and after the circle.\n",
        "Similar, the adjoint pressure is very high in front of the circle.\n",
        "This indicates high local residuals in front and around the obstacle.\n",
        "We therefore expect the adaptive algorithm to adjust the mesh granularity only around the circle:\n",
        "\n",
        "![images/lab3/mesh_orig.png](https://github.com/paulmyr/DD2365-AdvancedCFD/blob/master/images/lab3/mesh_refined_orig.png?raw=1)\n",
        "\n",
        "The algorithm behaves as expected.\n",
        "\n",
        "---\n",
        "\n",
        "We now change the domain by moving the circle to the center of the domain. We expect a similiar behaviour of the adjoint pressure and velocity around the object as in the original mesh.\n",
        "\n",
        "![images/lab3/mesh_orig.png](https://github.com/paulmyr/DD2365-AdvancedCFD/blob/master/images/lab3/mesh_mod1.png?raw=1)\n",
        "\n",
        "![images/lab3/mesh_orig.png](https://github.com/paulmyr/DD2365-AdvancedCFD/blob/master/images/lab3/v_adjoint_mod1.png?raw=1)\n",
        "![images/lab3/mesh_orig.png](https://github.com/paulmyr/DD2365-AdvancedCFD/blob/master/images/lab3/p_adjoint_mod1.png?raw=1)\n",
        "\n",
        "This is confirmed by the plots of the adjoint solutions.\n",
        "Interestingly, the adapted mesh looks like this:\n",
        "\n",
        "![images/lab3/mesh_orig.png](https://github.com/paulmyr/DD2365-AdvancedCFD/blob/master/images/lab3/mesh_refined_mod1.png?raw=1)\n",
        "\n",
        "To me, it is not clear why the algorithm also refines the grid granularity at the boundaries. Neither the adaptive pressure nor the adaptive velocity indicate this visually.\n",
        "To verify this behaviour is as intended, we can plot the error indicators:\n",
        "\n",
        "![images/lab3/error_indicator_mod1.png](https://github.com/paulmyr/DD2365-AdvancedCFD/blob/master/images/lab3/error_indicator_mod1.png?raw=1)\n",
        "\n",
        "Here, we can clearly see that even to the indicators are indeed very small, the values are still bigger than the mean of the domain."
      ],
      "metadata": {
        "id": "yvTYkRCfrb-M"
      }
    },
    {
      "cell_type": "markdown",
      "source": [
        "## 2) The functional"
      ],
      "metadata": {
        "id": "nfZSInsXz4CK"
      }
    },
    {
      "cell_type": "markdown",
      "source": [
        "One can also change the functional of the adjoint problem.\n",
        "In the original implementation, one is interested in the error in regards to the drag force on the object.\n",
        "It is specified as `phi3 = Expression((\"1.0\",\"0.0\"), element = V.ufl_element())`.\n",
        "By adjusting the adjoint problem to the lift force `phi3 = Expression((\"0.0\",\"1.0\"), element = V.ufl_element())`, we can see now difference in the adjoint solution.\n",
        "\n",
        "![images/lab3/mesh_orig.png](https://github.com/paulmyr/DD2365-AdvancedCFD/blob/master/images/lab3/v_adjoint_mod2.png?raw=1)\n",
        "![images/lab3/mesh_orig.png](https://github.com/paulmyr/DD2365-AdvancedCFD/blob/master/images/lab3/p_adjoint_mod2.png?raw=1)\n",
        "\n",
        "The error indicators are now indicating the local residuals in regards to the lift force. The expected problematic area is now smaller (less lift force than drag force in this example), which is clearly visible in the plotted error indicator.\n",
        "\n",
        "![images/lab3/mesh_orig.png](https://github.com/paulmyr/DD2365-AdvancedCFD/blob/master/images/lab3/error_indicator_mod2.png?raw=1)\n",
        "\n",
        "The mesh refined changes accordingly:\n",
        "\n",
        "![images/lab3/mesh_orig.png](https://github.com/paulmyr/DD2365-AdvancedCFD/blob/master/images/lab3/mesh_refined_mod2.png?raw=1)\n"
      ],
      "metadata": {
        "id": "lPmfZQRnANSG"
      }
    },
    {
      "cell_type": "markdown",
      "source": [
        "**Extra assignment:**\n",
        "## 1) The total error:"
      ],
      "metadata": {
        "id": "gFuEgdwhuLGy"
      }
    },
    {
      "cell_type": "markdown",
      "source": [
        "Original mesh:\n",
        "\n",
        "![](https://github.com/paulmyr/DD2365-AdvancedCFD/blob/master/images/lab3/mesh_orig.png?raw=1)\n",
        "\n",
        "With the same polynomial order for the adjoint equation as for the primal equation, we calculate: `Total error = -2.0248478458176344e-13`.\n",
        "\n",
        "By changing the degree of the polynomial order to 3 (for the adjoint velocity) and 2 (for the adjoint pressure), we get: `Total error = 0.050622244947699326`.\n",
        "\n",
        "We now increase the resolution from 32 to 64. We see the total error declines: `Total error = -0.0022734522372099024`.\n"
      ],
      "metadata": {
        "id": "TWyK4ekXs_rN"
      }
    }
  ]
}